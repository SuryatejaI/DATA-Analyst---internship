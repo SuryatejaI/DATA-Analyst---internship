{
 "cells": [
  {
   "cell_type": "markdown",
   "id": "db0525f5",
   "metadata": {},
   "source": [
    "###  Create link to an image\n",
    "\n",
    "download image and save with the extension in the same location \n"
   ]
  },
  {
   "cell_type": "code",
   "execution_count": 1,
   "id": "01917c0a",
   "metadata": {},
   "outputs": [
    {
     "data": {
      "text/plain": [
       "' Multi\\n            Line\\n                 Comments'"
      ]
     },
     "execution_count": 1,
     "metadata": {},
     "output_type": "execute_result"
    }
   ],
   "source": [
    "### comments\n",
    "\n",
    "# -> single line comment\n",
    "\"\"\" Multi\n",
    "            Line\n",
    "                 Comments\"\"\"\n"
   ]
  },
  {
   "cell_type": "markdown",
   "id": "3d1be567",
   "metadata": {},
   "source": [
    "### data types"
   ]
  },
  {
   "cell_type": "code",
   "execution_count": 3,
   "id": "064bb00d",
   "metadata": {},
   "outputs": [
    {
     "data": {
      "text/plain": [
       "int"
      ]
     },
     "execution_count": 3,
     "metadata": {},
     "output_type": "execute_result"
    }
   ],
   "source": [
    "a=12\n",
    "type(a)"
   ]
  },
  {
   "cell_type": "code",
   "execution_count": 5,
   "id": "fbef58a3",
   "metadata": {},
   "outputs": [
    {
     "name": "stdout",
     "output_type": "stream",
     "text": [
      "<class 'str'>\n",
      "<class 'str'>\n",
      "<class 'float'>\n"
     ]
    }
   ],
   "source": [
    "name=\"Surya\"\n",
    "print(type(name))\n",
    "ch='x'\n",
    "print(type(ch))\n",
    "b=10.9\n",
    "print(type(b))"
   ]
  },
  {
   "cell_type": "code",
   "execution_count": 6,
   "id": "d84a12f9",
   "metadata": {},
   "outputs": [
    {
     "data": {
      "text/plain": [
       "complex"
      ]
     },
     "execution_count": 6,
     "metadata": {},
     "output_type": "execute_result"
    }
   ],
   "source": [
    "x=4+5j\n",
    "type(x)"
   ]
  },
  {
   "cell_type": "code",
   "execution_count": 7,
   "id": "cefce530",
   "metadata": {},
   "outputs": [
    {
     "data": {
      "text/plain": [
       "bool"
      ]
     },
     "execution_count": 7,
     "metadata": {},
     "output_type": "execute_result"
    }
   ],
   "source": [
    "c=True\n",
    "type(c)"
   ]
  },
  {
   "cell_type": "markdown",
   "id": "fd9adcd7",
   "metadata": {},
   "source": [
    "#variables\n",
    "\n",
    "   Variable can store data of different types"
   ]
  },
  {
   "cell_type": "code",
   "execution_count": 9,
   "id": "f5eade48",
   "metadata": {},
   "outputs": [],
   "source": [
    "val=900"
   ]
  },
  {
   "cell_type": "markdown",
   "id": "40be78e7",
   "metadata": {},
   "source": [
    "### Type Casting\n",
    "\n",
    " converting one data type into other type"
   ]
  },
  {
   "cell_type": "code",
   "execution_count": 12,
   "id": "17a48628",
   "metadata": {},
   "outputs": [
    {
     "name": "stdout",
     "output_type": "stream",
     "text": [
      "Enter a value : 45\n",
      "45\n"
     ]
    },
    {
     "data": {
      "text/plain": [
       "str"
      ]
     },
     "execution_count": 12,
     "metadata": {},
     "output_type": "execute_result"
    }
   ],
   "source": [
    "x=input(\"Enter a value : \")\n",
    "print(x)\n",
    "type(x)"
   ]
  },
  {
   "cell_type": "code",
   "execution_count": 13,
   "id": "531cbb7d",
   "metadata": {},
   "outputs": [
    {
     "name": "stdout",
     "output_type": "stream",
     "text": [
      "Enter a value : 34\n",
      "34\n",
      "<class 'int'>\n"
     ]
    }
   ],
   "source": [
    "x=input(\"Enter a value : \")\n",
    "y=int(x)\n",
    "print(y)\n",
    "print(type(y))"
   ]
  },
  {
   "cell_type": "code",
   "execution_count": 14,
   "id": "0b70401e",
   "metadata": {},
   "outputs": [
    {
     "name": "stdout",
     "output_type": "stream",
     "text": [
      "908\n",
      "<class 'int'>\n"
     ]
    }
   ],
   "source": [
    "# float to int\n",
    "\n",
    "a=908.7\n",
    "b=int(a)\n",
    "print(b)\n",
    "print(type(b))"
   ]
  },
  {
   "cell_type": "code",
   "execution_count": 15,
   "id": "c6cfe530",
   "metadata": {},
   "outputs": [
    {
     "data": {
      "text/plain": [
       "'908890'"
      ]
     },
     "execution_count": 15,
     "metadata": {},
     "output_type": "execute_result"
    }
   ],
   "source": [
    "\"908\"+\"890\" # concatenation"
   ]
  },
  {
   "cell_type": "code",
   "execution_count": 16,
   "id": "623349e2",
   "metadata": {},
   "outputs": [
    {
     "data": {
      "text/plain": [
       "1798"
      ]
     },
     "execution_count": 16,
     "metadata": {},
     "output_type": "execute_result"
    }
   ],
   "source": [
    "908+890"
   ]
  },
  {
   "cell_type": "code",
   "execution_count": 17,
   "id": "6f3c20df",
   "metadata": {},
   "outputs": [
    {
     "data": {
      "text/plain": [
       "'name908'"
      ]
     },
     "execution_count": 17,
     "metadata": {},
     "output_type": "execute_result"
    }
   ],
   "source": [
    "\"name\"+\"908\""
   ]
  },
  {
   "cell_type": "code",
   "execution_count": 18,
   "id": "aefabf5a",
   "metadata": {},
   "outputs": [
    {
     "ename": "TypeError",
     "evalue": "can only concatenate str (not \"int\") to str",
     "output_type": "error",
     "traceback": [
      "\u001b[1;31m---------------------------------------------------------------------------\u001b[0m",
      "\u001b[1;31mTypeError\u001b[0m                                 Traceback (most recent call last)",
      "Cell \u001b[1;32mIn[18], line 1\u001b[0m\n\u001b[1;32m----> 1\u001b[0m \u001b[38;5;124;43m\"\u001b[39;49m\u001b[38;5;124;43msuper\u001b[39;49m\u001b[38;5;124;43m\"\u001b[39;49m\u001b[38;5;241;43m+\u001b[39;49m\u001b[38;5;241;43m30\u001b[39;49m\n",
      "\u001b[1;31mTypeError\u001b[0m: can only concatenate str (not \"int\") to str"
     ]
    }
   ],
   "source": [
    "\"super\"+30"
   ]
  },
  {
   "cell_type": "markdown",
   "id": "1e119507",
   "metadata": {},
   "source": [
    "### Operators\n",
    "\n",
    "* Arithmetic operators( +,-,*,/,//,% )\n",
    "* Assignment operators( =,+=,-=,*=,%=,/=,//= )\n",
    "* Comparision operators( ==,<=,>=,<,>,!= )\n",
    "* Logical operators( and,or,not )\n",
    "* Bitwise Operators\n",
    "* Identity operator\n",
    "* Membership operator"
   ]
  },
  {
   "cell_type": "markdown",
   "id": "333edd7a",
   "metadata": {},
   "source": [
    "### Arithmetic Operators\n",
    "\n",
    "* + -> Addition of two values\n",
    "* - -> Difference of two values\n",
    "* * -> Multiplication of two values\n",
    "* / -> Divsion of two values which gives exact values\n",
    "* // -> Division of two values which gives integer part only\n",
    "* % -> Division of two values which gives only the remainder"
   ]
  },
  {
   "cell_type": "markdown",
   "id": "a8e05b7c",
   "metadata": {},
   "source": [
    "### Logical Operators\n",
    "\n",
    "* and returns True if both the statements are true otherwise false.\n",
    "    eg: x<5 and x<10\n",
    "* or returns True if one of the statement is true.\n",
    "    eg: x<5 or x<10\n",
    "* not\n"
   ]
  },
  {
   "cell_type": "code",
   "execution_count": 19,
   "id": "fe1a0cd0",
   "metadata": {},
   "outputs": [
    {
     "data": {
      "text/plain": [
       "True"
      ]
     },
     "execution_count": 19,
     "metadata": {},
     "output_type": "execute_result"
    }
   ],
   "source": [
    "# and\n",
    "\n",
    "a=8\n",
    "a<80 and a>6"
   ]
  },
  {
   "cell_type": "code",
   "execution_count": 20,
   "id": "f2aa2f1b",
   "metadata": {},
   "outputs": [
    {
     "data": {
      "text/plain": [
       "False"
      ]
     },
     "execution_count": 20,
     "metadata": {},
     "output_type": "execute_result"
    }
   ],
   "source": [
    "a<90 and a>10"
   ]
  },
  {
   "cell_type": "code",
   "execution_count": 21,
   "id": "4513dd4f",
   "metadata": {},
   "outputs": [
    {
     "data": {
      "text/plain": [
       "True"
      ]
     },
     "execution_count": 21,
     "metadata": {},
     "output_type": "execute_result"
    }
   ],
   "source": [
    "# or\n",
    "\n",
    "a<78 or a>90"
   ]
  },
  {
   "cell_type": "code",
   "execution_count": 22,
   "id": "2d2ec126",
   "metadata": {},
   "outputs": [
    {
     "data": {
      "text/plain": [
       "False"
      ]
     },
     "execution_count": 22,
     "metadata": {},
     "output_type": "execute_result"
    }
   ],
   "source": [
    "a>80 or a<5"
   ]
  },
  {
   "cell_type": "code",
   "execution_count": 23,
   "id": "d5a4b7b1",
   "metadata": {},
   "outputs": [
    {
     "data": {
      "text/plain": [
       "True"
      ]
     },
     "execution_count": 23,
     "metadata": {},
     "output_type": "execute_result"
    }
   ],
   "source": [
    "# not\n",
    "\n",
    "b=90 \n",
    "b>80"
   ]
  },
  {
   "cell_type": "code",
   "execution_count": 24,
   "id": "3ac28f62",
   "metadata": {},
   "outputs": [
    {
     "data": {
      "text/plain": [
       "False"
      ]
     },
     "execution_count": 24,
     "metadata": {},
     "output_type": "execute_result"
    }
   ],
   "source": [
    "not(b>80)"
   ]
  },
  {
   "cell_type": "markdown",
   "id": "b2df6402",
   "metadata": {},
   "source": [
    "### Comparision Operators"
   ]
  },
  {
   "cell_type": "code",
   "execution_count": 32,
   "id": "5a2c6784",
   "metadata": {},
   "outputs": [
    {
     "data": {
      "text/plain": [
       "True"
      ]
     },
     "execution_count": 32,
     "metadata": {},
     "output_type": "execute_result"
    }
   ],
   "source": [
    "x=90\n",
    "y=89\n",
    "x>y"
   ]
  },
  {
   "cell_type": "code",
   "execution_count": 33,
   "id": "7f2efc41",
   "metadata": {},
   "outputs": [
    {
     "data": {
      "text/plain": [
       "False"
      ]
     },
     "execution_count": 33,
     "metadata": {},
     "output_type": "execute_result"
    }
   ],
   "source": [
    "x<y"
   ]
  },
  {
   "cell_type": "code",
   "execution_count": 34,
   "id": "b0f2f042",
   "metadata": {},
   "outputs": [
    {
     "data": {
      "text/plain": [
       "False"
      ]
     },
     "execution_count": 34,
     "metadata": {},
     "output_type": "execute_result"
    }
   ],
   "source": [
    "x==y"
   ]
  },
  {
   "cell_type": "code",
   "execution_count": 35,
   "id": "bf52af10",
   "metadata": {},
   "outputs": [
    {
     "data": {
      "text/plain": [
       "True"
      ]
     },
     "execution_count": 35,
     "metadata": {},
     "output_type": "execute_result"
    }
   ],
   "source": [
    "x>=y"
   ]
  },
  {
   "cell_type": "code",
   "execution_count": 36,
   "id": "9a482ed9",
   "metadata": {},
   "outputs": [
    {
     "data": {
      "text/plain": [
       "False"
      ]
     },
     "execution_count": 36,
     "metadata": {},
     "output_type": "execute_result"
    }
   ],
   "source": [
    "x<=y"
   ]
  },
  {
   "cell_type": "code",
   "execution_count": 37,
   "id": "11142952",
   "metadata": {},
   "outputs": [
    {
     "data": {
      "text/plain": [
       "True"
      ]
     },
     "execution_count": 37,
     "metadata": {},
     "output_type": "execute_result"
    }
   ],
   "source": [
    "x!=y"
   ]
  },
  {
   "cell_type": "markdown",
   "id": "1030670c",
   "metadata": {},
   "source": [
    "### Assignment Operators\n",
    "\n",
    "* Used to assign values to variables"
   ]
  },
  {
   "cell_type": "code",
   "execution_count": 40,
   "id": "2de3d4ff",
   "metadata": {},
   "outputs": [
    {
     "name": "stdout",
     "output_type": "stream",
     "text": [
      "50\n",
      "30\n",
      "25\n",
      "4.0\n",
      "0\n"
     ]
    }
   ],
   "source": [
    "x=45\n",
    "y=40\n",
    "z=5\n",
    "w=32\n",
    "a=50\n",
    "x+=5\n",
    "y-=10\n",
    "z*=5\n",
    "w/=8\n",
    "a%=10\n",
    "print(x)\n",
    "print(y)\n",
    "print(z)\n",
    "print(w)\n",
    "print(a)"
   ]
  },
  {
   "cell_type": "markdown",
   "id": "7ed269bf",
   "metadata": {},
   "source": [
    "### Bitwise Operators\n",
    "\n",
    "* Bitwise AND\n",
    "* Bitwise OR\n",
    "* Bitwise Leftshift\n",
    "* Bitwise Rightshift\n",
    "* Bitwise not"
   ]
  },
  {
   "cell_type": "code",
   "execution_count": 41,
   "id": "5266b98e",
   "metadata": {},
   "outputs": [
    {
     "data": {
      "text/plain": [
       "2"
      ]
     },
     "execution_count": 41,
     "metadata": {},
     "output_type": "execute_result"
    }
   ],
   "source": [
    "a=2  # 2 -> 0010\n",
    "b=3  # 3 -> 0011\n",
    "\n",
    "a&b"
   ]
  },
  {
   "cell_type": "code",
   "execution_count": 42,
   "id": "adaa64af",
   "metadata": {},
   "outputs": [
    {
     "data": {
      "text/plain": [
       "5"
      ]
     },
     "execution_count": 42,
     "metadata": {},
     "output_type": "execute_result"
    }
   ],
   "source": [
    "c=4  # 4 -> 0100\n",
    "d=5  # 5 -> 0101\n",
    "\n",
    "c|d  # 4|5 -> 0101"
   ]
  },
  {
   "cell_type": "code",
   "execution_count": 43,
   "id": "a01bfe49",
   "metadata": {},
   "outputs": [
    {
     "data": {
      "text/plain": [
       "'0b101'"
      ]
     },
     "execution_count": 43,
     "metadata": {},
     "output_type": "execute_result"
    }
   ],
   "source": [
    "bin(5)"
   ]
  },
  {
   "cell_type": "code",
   "execution_count": 45,
   "id": "f0d9b003",
   "metadata": {},
   "outputs": [
    {
     "data": {
      "text/plain": [
       "40"
      ]
     },
     "execution_count": 45,
     "metadata": {},
     "output_type": "execute_result"
    }
   ],
   "source": [
    "# 10 -> 1010\n",
    "\n",
    "10<<2 -> 101000 \n"
   ]
  },
  {
   "cell_type": "code",
   "execution_count": 48,
   "id": "bfda1032",
   "metadata": {},
   "outputs": [
    {
     "data": {
      "text/plain": [
       "2"
      ]
     },
     "execution_count": 48,
     "metadata": {},
     "output_type": "execute_result"
    }
   ],
   "source": [
    "# 10 -> 1010\n",
    "\n",
    "10>>2 -> 10"
   ]
  },
  {
   "cell_type": "code",
   "execution_count": 49,
   "id": "32433ea7",
   "metadata": {},
   "outputs": [
    {
     "data": {
      "text/plain": [
       "-10"
      ]
     },
     "execution_count": 49,
     "metadata": {},
     "output_type": "execute_result"
    }
   ],
   "source": [
    "## tild(~)  -(n+1)\n",
    "c=9\n",
    "~c"
   ]
  },
  {
   "cell_type": "code",
   "execution_count": null,
   "id": "6bfd016d",
   "metadata": {},
   "outputs": [],
   "source": []
  }
 ],
 "metadata": {
  "kernelspec": {
   "display_name": "Python 3 (ipykernel)",
   "language": "python",
   "name": "python3"
  },
  "language_info": {
   "codemirror_mode": {
    "name": "ipython",
    "version": 3
   },
   "file_extension": ".py",
   "mimetype": "text/x-python",
   "name": "python",
   "nbconvert_exporter": "python",
   "pygments_lexer": "ipython3",
   "version": "3.10.9"
  }
 },
 "nbformat": 4,
 "nbformat_minor": 5
}

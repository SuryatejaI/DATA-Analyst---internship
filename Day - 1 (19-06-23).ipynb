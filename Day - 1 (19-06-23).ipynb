{
 "cells": [
  {
   "cell_type": "code",
   "execution_count": null,
   "id": "afe6648e",
   "metadata": {},
   "outputs": [],
   "source": [
    "Markdown syntax\n",
    "Markdown is a lightweight markup language that makes easy to write formatted content"
   ]
  },
  {
   "cell_type": "code",
   "execution_count": null,
   "id": "1f4721e8",
   "metadata": {},
   "outputs": [],
   "source": [
    "# SHORTCUTS\n",
    "\n",
    "esc+m -> to convert coding cell to markdown cell\n",
    "esc+y -> to convert markdown cell to coding cell\n",
    "esc+a -> to create a new cell above the present cell\n",
    "esc+b -> to create a new cell below the present cell\n",
    "esc+h -> to see the shortcuts\n",
    "shift+enter -> to execute the cell and move to next cell"
   ]
  },
  {
   "cell_type": "code",
   "execution_count": null,
   "id": "d56d824e",
   "metadata": {},
   "outputs": [],
   "source": [
    "# Headings\n",
    "\n",
    "# for largest heading <h1> tag\n",
    "##  for second largest heading <h2> tag\n",
    "###  for third largest heading <h3> tag\n",
    "####  for <h4> tag\n",
    "#####  for <h5> tag\n",
    "######  for smallest heading <h6> tag"
   ]
  },
  {
   "cell_type": "code",
   "execution_count": null,
   "id": "899e5e4f",
   "metadata": {},
   "outputs": [],
   "source": [
    "# Text  Styling \n",
    "\n",
    "*** -> represents both bold and italic\n",
    "** -> represents bold text \n",
    "* -> represents italic text\n",
    "~~ -> represents strike through\n"
   ]
  },
  {
   "cell_type": "code",
   "execution_count": null,
   "id": "5e4b9a12",
   "metadata": {},
   "outputs": [],
   "source": [
    "# Types of lists:\n",
    "    Unordered list:\n",
    "        syntax : *+text\n",
    "        example :\n",
    "            List of cities\n",
    "            * Tanuku\n",
    "            * Vijayawada\n",
    "            * Relangi\n",
    "            * Guntur\n",
    "            * Ongole\n",
    "    Ordered list:\n",
    "        syntax : index + text\n",
    "        example :\n",
    "            list of cities:\n",
    "            1. Tanuku\n",
    "            2. Vijayawada\n",
    "            3. Relangi\n",
    "            4. Guntur\n",
    "            5. Ongole"
   ]
  },
  {
   "cell_type": "code",
   "execution_count": null,
   "id": "5b2b754f",
   "metadata": {},
   "outputs": [],
   "source": [
    "# Inserting a link:\n",
    "\n",
    "[Google.com](https://www.google.com/)\n",
    "\n",
    "[Gmail.com](https://www.gmail.com/)\n",
    "\n",
    "<a href=\"https://www.google.com/\"> Link </a>\n",
    "    "
   ]
  }
 ],
 "metadata": {
  "kernelspec": {
   "display_name": "Python 3 (ipykernel)",
   "language": "python",
   "name": "python3"
  },
  "language_info": {
   "codemirror_mode": {
    "name": "ipython",
    "version": 3
   },
   "file_extension": ".py",
   "mimetype": "text/x-python",
   "name": "python",
   "nbconvert_exporter": "python",
   "pygments_lexer": "ipython3",
   "version": "3.10.9"
  }
 },
 "nbformat": 4,
 "nbformat_minor": 5
}

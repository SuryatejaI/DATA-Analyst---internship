{
 "cells": [
  {
   "cell_type": "markdown",
   "id": "55e82d4b",
   "metadata": {},
   "source": [
    "### Tuple:\n",
    "\n",
    "    - It is a collection of different data items in a single variable.\n",
    "    - By using round brakect we can write the tuple like this ().\n",
    "    - It is imuutable(can't changable).\n",
    "    - It is a collection which is ordered and unchangable.\n",
    "    - It allows the Duplication of data.\n",
    "    `"
   ]
  },
  {
   "cell_type": "code",
   "execution_count": 1,
   "id": "2e26452a",
   "metadata": {},
   "outputs": [
    {
     "name": "stdout",
     "output_type": "stream",
     "text": [
      "(12, 24, 'apssdc', 45.0, 12, 24)\n",
      "<class 'tuple'>\n"
     ]
    }
   ],
   "source": [
    "# to store the multiple elements in a single variable\n",
    "t1=(12,24,'apssdc',45.0,12,24)\n",
    "print(t1)\n",
    "print(type(t1))"
   ]
  },
  {
   "cell_type": "code",
   "execution_count": 2,
   "id": "882ce8bd",
   "metadata": {},
   "outputs": [
    {
     "name": "stdout",
     "output_type": "stream",
     "text": [
      "(100,)\n",
      "<class 'tuple'>\n"
     ]
    }
   ],
   "source": [
    "# to store the single element in a tuple\n",
    "t2=(100,)\n",
    "print(t2)\n",
    "print(type(t2))"
   ]
  },
  {
   "cell_type": "code",
   "execution_count": 3,
   "id": "f95181ef",
   "metadata": {},
   "outputs": [
    {
     "name": "stdout",
     "output_type": "stream",
     "text": [
      "(12, 24, 'apssdc', 45.0, 12, 24)\n",
      "6\n",
      "apssdc\n",
      "24\n",
      "(24, 12, 45.0, 'apssdc', 24, 12)\n"
     ]
    }
   ],
   "source": [
    "# to access the tuple using index position\n",
    "print(t1)\n",
    "print(len(t1))\n",
    "print(t1[2])\n",
    "print(t1[-1])\n",
    "print(t1[::-1])"
   ]
  },
  {
   "cell_type": "code",
   "execution_count": 4,
   "id": "8c405006",
   "metadata": {},
   "outputs": [
    {
     "name": "stdout",
     "output_type": "stream",
     "text": [
      "<class 'tuple'>\n",
      "(12, 24, 'apssdc', 45.0, 12, 24)\n",
      "[12, 24, 'apssdc', 'python', 12, 24]\n",
      "<class 'list'>\n"
     ]
    }
   ],
   "source": [
    "# to update the tuple values\n",
    "\n",
    "print(type(t1))\n",
    "print(t1)\n",
    "\n",
    "#t1[3]='python'\n",
    "#print(t1)\n",
    "t1=list(t1)\n",
    "t1[3]='python'\n",
    "print(t1)\n",
    "print(type(t1))"
   ]
  },
  {
   "cell_type": "code",
   "execution_count": 5,
   "id": "084c8a2e",
   "metadata": {},
   "outputs": [
    {
     "name": "stdout",
     "output_type": "stream",
     "text": [
      "['__add__', '__class__', '__class_getitem__', '__contains__', '__delattr__', '__dir__', '__doc__', '__eq__', '__format__', '__ge__', '__getattribute__', '__getitem__', '__getnewargs__', '__gt__', '__hash__', '__init__', '__init_subclass__', '__iter__', '__le__', '__len__', '__lt__', '__mul__', '__ne__', '__new__', '__reduce__', '__reduce_ex__', '__repr__', '__rmul__', '__setattr__', '__sizeof__', '__str__', '__subclasshook__', 'count', 'index']\n"
     ]
    }
   ],
   "source": [
    "print(dir(tuple))"
   ]
  },
  {
   "cell_type": "code",
   "execution_count": 6,
   "id": "9c04f86e",
   "metadata": {},
   "outputs": [
    {
     "name": "stdout",
     "output_type": "stream",
     "text": [
      "2\n"
     ]
    }
   ],
   "source": [
    "# To count the frequnecy of an element\n",
    "t2=(10,20,30,'python','java',55.7,10,20,'python')\n",
    "print(t2.count('python'))"
   ]
  },
  {
   "cell_type": "code",
   "execution_count": 7,
   "id": "ac75cc92",
   "metadata": {},
   "outputs": [
    {
     "name": "stdout",
     "output_type": "stream",
     "text": [
      "4\n"
     ]
    }
   ],
   "source": [
    "# To get the index of an element\n",
    "t2=(10,20,30,'python','java',55.7,10,20,'python')\n",
    "print(t2.index('java'))"
   ]
  },
  {
   "cell_type": "code",
   "execution_count": 8,
   "id": "b5fe715e",
   "metadata": {},
   "outputs": [
    {
     "name": "stdout",
     "output_type": "stream",
     "text": [
      "3\n"
     ]
    }
   ],
   "source": [
    "\n",
    "print(t2.index('python'))"
   ]
  },
  {
   "cell_type": "code",
   "execution_count": 9,
   "id": "6302b1ec",
   "metadata": {},
   "outputs": [
    {
     "name": "stdout",
     "output_type": "stream",
     "text": [
      "Enter element : python\n",
      "python  index is  3\n",
      "python  index is  8\n"
     ]
    }
   ],
   "source": [
    "ch=input(\"Enter element : \")\n",
    "for i in range(0,len(t2)):\n",
    "    if t2[i] == ch:\n",
    "        print(ch,\" index is \",i)\n",
    "    "
   ]
  },
  {
   "cell_type": "markdown",
   "id": "5a7a7035",
   "metadata": {},
   "source": [
    "### Sets:\n",
    "\n",
    "    - It is a collection of different data items in a single variable.\n",
    "    - It is unordered and unindexed.\n",
    "    - In python by using curly brackets {} we can write the sets.\n",
    "    - Set will not allow the duplication of data.\n",
    "    - In sets data can't be update but can add the new data.\n",
    "    - It can't access the data from the sets."
   ]
  },
  {
   "cell_type": "code",
   "execution_count": 10,
   "id": "038e999f",
   "metadata": {},
   "outputs": [
    {
     "name": "stdout",
     "output_type": "stream",
     "text": [
      "<class 'set'>\n"
     ]
    }
   ],
   "source": [
    "# To create empty set.\n",
    "\n",
    "s1=set()\n",
    "print(type(s1))"
   ]
  },
  {
   "cell_type": "code",
   "execution_count": 11,
   "id": "0f37e41e",
   "metadata": {},
   "outputs": [
    {
     "name": "stdout",
     "output_type": "stream",
     "text": [
      "{40, 10, 11, 50, 20, 24, 60, 30}\n",
      "<class 'set'>\n"
     ]
    }
   ],
   "source": [
    "# To store multiple elements in a set.\n",
    "\n",
    "s1={10,20,30,40,50,60,11,24}\n",
    "print(s1)\n",
    "print(type(s1))"
   ]
  },
  {
   "cell_type": "code",
   "execution_count": 12,
   "id": "f3006bee",
   "metadata": {},
   "outputs": [
    {
     "name": "stdout",
     "output_type": "stream",
     "text": [
      "{40, 10, 11, 50, 20, 24, 60, 30}\n",
      "40\n",
      "10\n",
      "11\n",
      "50\n",
      "20\n",
      "24\n",
      "60\n",
      "30\n"
     ]
    }
   ],
   "source": [
    "print(s1)\n",
    "for i in s1:\n",
    "    print(i)"
   ]
  },
  {
   "cell_type": "code",
   "execution_count": 13,
   "id": "b6867979",
   "metadata": {},
   "outputs": [
    {
     "name": "stdout",
     "output_type": "stream",
     "text": [
      "['__and__', '__class__', '__class_getitem__', '__contains__', '__delattr__', '__dir__', '__doc__', '__eq__', '__format__', '__ge__', '__getattribute__', '__gt__', '__hash__', '__iand__', '__init__', '__init_subclass__', '__ior__', '__isub__', '__iter__', '__ixor__', '__le__', '__len__', '__lt__', '__ne__', '__new__', '__or__', '__rand__', '__reduce__', '__reduce_ex__', '__repr__', '__ror__', '__rsub__', '__rxor__', '__setattr__', '__sizeof__', '__str__', '__sub__', '__subclasshook__', '__xor__', 'add', 'clear', 'copy', 'difference', 'difference_update', 'discard', 'intersection', 'intersection_update', 'isdisjoint', 'issubset', 'issuperset', 'pop', 'remove', 'symmetric_difference', 'symmetric_difference_update', 'union', 'update']\n"
     ]
    }
   ],
   "source": [
    "# set methods\n",
    "\n",
    "print(dir(set))"
   ]
  },
  {
   "cell_type": "code",
   "execution_count": 14,
   "id": "75bc82ad",
   "metadata": {},
   "outputs": [
    {
     "name": "stdout",
     "output_type": "stream",
     "text": [
      "{10, 'python', 20}\n",
      "{10, 'python', 20, 'apssdc'}\n"
     ]
    }
   ],
   "source": [
    "# add() method -- to add the new element to the set.\n",
    "\n",
    "s1={'python',10,20}\n",
    "print(s1)\n",
    "s1.add('apssdc')\n",
    "print(s1)\n"
   ]
  },
  {
   "cell_type": "code",
   "execution_count": 15,
   "id": "f66d947a",
   "metadata": {},
   "outputs": [
    {
     "name": "stdout",
     "output_type": "stream",
     "text": [
      "{10, 'python', 20, 'apssdc'}\n",
      "{34, 67, 10, 'apssdc', 'python', 20}\n"
     ]
    }
   ],
   "source": [
    "#update()  -- we can add the multiple elements in a set\n",
    "\n",
    "print(s1)\n",
    "s1.update([34,67])\n",
    "print(s1)"
   ]
  },
  {
   "cell_type": "code",
   "execution_count": 18,
   "id": "dcab0b87",
   "metadata": {},
   "outputs": [
    {
     "name": "stdout",
     "output_type": "stream",
     "text": [
      "{67, 200, 10, 'apssdc', 'python', 20}\n",
      "{'apssdc', 67, 'python', 20, 200, 10}\n"
     ]
    }
   ],
   "source": [
    "#copy(): -- to copy the data from one set to another set.\n",
    "\n",
    "print(s1)\n",
    "s3=s1.copy()\n",
    "print(s3)"
   ]
  },
  {
   "cell_type": "code",
   "execution_count": 16,
   "id": "c093a6a1",
   "metadata": {},
   "outputs": [
    {
     "name": "stdout",
     "output_type": "stream",
     "text": [
      "[34, 67, 10, 'apssdc', 'python', 20]\n",
      "[200, 67, 10, 'apssdc', 'python', 20]\n",
      "{67, 200, 10, 'apssdc', 'python', 20}\n"
     ]
    }
   ],
   "source": [
    "\n",
    "s1=list(s1)\n",
    "print(s1)\n",
    "s1[0]=200\n",
    "print(s1)\n",
    "s1=set(s1)\n",
    "print(s1)"
   ]
  },
  {
   "cell_type": "code",
   "execution_count": 19,
   "id": "c8aeb3ab",
   "metadata": {},
   "outputs": [
    {
     "name": "stdout",
     "output_type": "stream",
     "text": [
      "{67, 200, 10, 'apssdc', 'python', 20}\n",
      "{67, 200, 10, 'python', 20}\n"
     ]
    }
   ],
   "source": [
    "#remove(): -- to remove the element from a set\n",
    "\n",
    "print(s1)\n",
    "s1.remove('apssdc')\n",
    "print(s1)"
   ]
  },
  {
   "cell_type": "code",
   "execution_count": 20,
   "id": "2f4e793b",
   "metadata": {},
   "outputs": [
    {
     "name": "stdout",
     "output_type": "stream",
     "text": [
      "{67, 200, 10, 'python', 20}\n",
      "{67, 200, 10, 'python'}\n"
     ]
    }
   ],
   "source": [
    "## discard(): -- it is similar to the remove method but it odesn't show any error message if the element is not present in the set.\n",
    "\n",
    "print(s1)\n",
    "s1.discard(20)\n",
    "print(s1)"
   ]
  },
  {
   "cell_type": "code",
   "execution_count": 21,
   "id": "d1ef4bbb",
   "metadata": {},
   "outputs": [
    {
     "name": "stdout",
     "output_type": "stream",
     "text": [
      "{67, 200, 10, 'python'}\n",
      "{200, 10, 'python'}\n"
     ]
    }
   ],
   "source": [
    "#pop(): -- deletion of first element\n",
    "\n",
    "print(s1)\n",
    "s1.pop()\n",
    "print(s1)"
   ]
  },
  {
   "cell_type": "code",
   "execution_count": 22,
   "id": "20dc8e8b",
   "metadata": {},
   "outputs": [
    {
     "name": "stdout",
     "output_type": "stream",
     "text": [
      "{'apssdc', 67, 'python', 20, 200, 10}\n",
      "set()\n"
     ]
    }
   ],
   "source": [
    "# clear(): -- to clear the set data.\n",
    "\n",
    "print(s3)\n",
    "s3.clear()\n",
    "print(s3)"
   ]
  },
  {
   "cell_type": "code",
   "execution_count": 23,
   "id": "208da715",
   "metadata": {},
   "outputs": [
    {
     "name": "stdout",
     "output_type": "stream",
     "text": [
      "{1, 2, 3, 'c', 'b', 'a'}\n"
     ]
    }
   ],
   "source": [
    "#union(): -- to combine the sets.\n",
    "#syntax :--  set3=set1.union(set2)\n",
    "\n",
    "s1={1,2,3}\n",
    "s2={'a','b','c'}\n",
    "s3=s1.union(s2)\n",
    "print(s3)"
   ]
  },
  {
   "cell_type": "code",
   "execution_count": 24,
   "id": "a5ad375d",
   "metadata": {},
   "outputs": [
    {
     "name": "stdout",
     "output_type": "stream",
     "text": [
      "{'orange'}\n"
     ]
    }
   ],
   "source": [
    "# intersection_update(): -- the items that are present both the sets.\n",
    "\n",
    "x={'apple','banana','mango','orange'}\n",
    "y={'red','green','yellow','orange'}\n",
    "x.intersection_update(y)\n",
    "print(x)"
   ]
  },
  {
   "cell_type": "code",
   "execution_count": 26,
   "id": "85cc0a51",
   "metadata": {},
   "outputs": [
    {
     "name": "stdout",
     "output_type": "stream",
     "text": [
      "{'apple', 'banana', 'red', 'green', 'yellow', 'mango'}\n"
     ]
    }
   ],
   "source": [
    "# symmetric_difference_update(): -- the items which are not common on the sets.\n",
    "x={'apple','banana','mango','orange'}\n",
    "y={'red','green','yellow','orange'}\n",
    "x.symmetric_difference_update(y)\n",
    "print(x)"
   ]
  },
  {
   "cell_type": "code",
   "execution_count": 28,
   "id": "d5fa319d",
   "metadata": {},
   "outputs": [
    {
     "name": "stdout",
     "output_type": "stream",
     "text": [
      "{'banana', 'apple', 'mango'}\n"
     ]
    }
   ],
   "source": [
    "# difference(): -- the items that only exist in set x, and not in set y\n",
    "\n",
    "x={'apple','banana','mango','orange'}\n",
    "y={'red','green','yellow','orange'}\n",
    "z=x.difference(y)\n",
    "print(z)"
   ]
  },
  {
   "cell_type": "code",
   "execution_count": 30,
   "id": "b88776bf",
   "metadata": {},
   "outputs": [
    {
     "name": "stdout",
     "output_type": "stream",
     "text": [
      "{'mango', 'apple', 'banana', 'orange'} {'yellow', 'green', 'red', 'orange'}\n",
      "{'orange'}\n",
      "{'mango', 'apple', 'banana', 'orange'}\n"
     ]
    }
   ],
   "source": [
    "# intersection():\n",
    "# items that are present both sets\n",
    "print(x,y)\n",
    "r = x.intersection(y)\n",
    "print(r)\n",
    "print(x)"
   ]
  },
  {
   "cell_type": "code",
   "execution_count": 32,
   "id": "e802ac84",
   "metadata": {},
   "outputs": [
    {
     "name": "stdout",
     "output_type": "stream",
     "text": [
      "{'mango', 'apple', 'banana', 'orange'} {'yellow', 'green', 'red', 'orange'}\n",
      "{'orange'}\n"
     ]
    }
   ],
   "source": [
    "# intersection_update():\n",
    "print(x,y)\n",
    "x.intersection_update(y)\n",
    "print(x)"
   ]
  },
  {
   "cell_type": "code",
   "execution_count": 34,
   "id": "3c073976",
   "metadata": {},
   "outputs": [
    {
     "name": "stdout",
     "output_type": "stream",
     "text": [
      "{'orange'}\n",
      "{'mango', 'apple', 'banana', 'orange'} {'yellow', 'green', 'red', 'orange'}\n",
      "{'apple', 'banana', 'orange', 'red', 'green', 'yellow', 'mango'}\n",
      "{'banana', 'apple', 'mango'}\n"
     ]
    }
   ],
   "source": [
    "x={'apple','banana','mango','orange'}\n",
    "y={'red','green','yellow','orange'}\n",
    "print(x&y)\n",
    "print(x,y)\n",
    "print(x|y)\n",
    "print(x-y)"
   ]
  },
  {
   "cell_type": "code",
   "execution_count": null,
   "id": "68aa8b75",
   "metadata": {},
   "outputs": [],
   "source": []
  }
 ],
 "metadata": {
  "kernelspec": {
   "display_name": "Python 3 (ipykernel)",
   "language": "python",
   "name": "python3"
  },
  "language_info": {
   "codemirror_mode": {
    "name": "ipython",
    "version": 3
   },
   "file_extension": ".py",
   "mimetype": "text/x-python",
   "name": "python",
   "nbconvert_exporter": "python",
   "pygments_lexer": "ipython3",
   "version": "3.10.9"
  }
 },
 "nbformat": 4,
 "nbformat_minor": 5
}

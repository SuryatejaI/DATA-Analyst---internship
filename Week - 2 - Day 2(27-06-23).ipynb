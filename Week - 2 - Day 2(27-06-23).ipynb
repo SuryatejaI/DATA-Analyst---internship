{
 "cells": [
  {
   "cell_type": "markdown",
   "id": "35d97c11",
   "metadata": {},
   "source": [
    "### Dictionary:\n",
    "    \n",
    "    - It is collection of key-value pairs.\n",
    "    - In dictionary key names are unique.\n",
    "    - By using curly brackets we can write the dictionary in python.\n",
    "    - To access the dictionary values by using only keynames.\n",
    "    - It is mutable\n"
   ]
  },
  {
   "cell_type": "code",
   "execution_count": 1,
   "id": "01fef2e7",
   "metadata": {},
   "outputs": [
    {
     "name": "stdout",
     "output_type": "stream",
     "text": [
      "{}\n",
      "<class 'dict'>\n"
     ]
    }
   ],
   "source": [
    "# to create the empty dictionary\n",
    "d1=dict()\n",
    "print(d1)\n",
    "print(type(d1))\n"
   ]
  },
  {
   "cell_type": "code",
   "execution_count": 9,
   "id": "72d07214",
   "metadata": {},
   "outputs": [
    {
     "name": "stdout",
     "output_type": "stream",
     "text": [
      "{'Name': 'krishna', 'Rollno': 370, 'Branch': 'CSE'}\n",
      "<class 'dict'>\n"
     ]
    }
   ],
   "source": [
    "# to create the dictionary with items(keyname,value)\n",
    "\n",
    "d2={'Name':'krishna','Rollno':370,'Branch':'CSE'}\n",
    "print(d2)\n",
    "print(type(d2))"
   ]
  },
  {
   "cell_type": "code",
   "execution_count": 3,
   "id": "107bb37b",
   "metadata": {},
   "outputs": [
    {
     "name": "stdout",
     "output_type": "stream",
     "text": [
      "{1: 110, 2: 370, 3: 500}\n"
     ]
    }
   ],
   "source": [
    "# digit keynames\n",
    "\n",
    "d3={1:110,2:370,3:456,3:500}\n",
    "print(d3)"
   ]
  },
  {
   "cell_type": "code",
   "execution_count": 4,
   "id": "d492276a",
   "metadata": {},
   "outputs": [
    {
     "name": "stdout",
     "output_type": "stream",
     "text": [
      "{'a': 100, 'b': 'python', 'c': 34.67}\n"
     ]
    }
   ],
   "source": [
    "# to create a dictionary with different data types\n",
    "d4={'a':100,'b':'python','c':34.67}\n",
    "print(d4)"
   ]
  },
  {
   "cell_type": "code",
   "execution_count": 7,
   "id": "aed229bd",
   "metadata": {},
   "outputs": [
    {
     "name": "stdout",
     "output_type": "stream",
     "text": [
      "{'Name': 'krishna', 'Roolno': 370, 'Branch': 'CSE'}\n",
      "krishna\n",
      "python\n"
     ]
    }
   ],
   "source": [
    "# accessing the data through key names\n",
    "print(d2)\n",
    "print(d2['Name'])\n",
    "print(d4['b'])\n"
   ]
  },
  {
   "cell_type": "code",
   "execution_count": 10,
   "id": "716d3dee",
   "metadata": {},
   "outputs": [
    {
     "name": "stdout",
     "output_type": "stream",
     "text": [
      "{'Name': 'krishna', 'Rollno': 370, 'Branch': 'CSE'}\n",
      "{'Name': 'krishna', 'Rollno': 375, 'Branch': 'CSE'}\n"
     ]
    }
   ],
   "source": [
    "print(d2)\n",
    "d2['Rollno']=375\n",
    "print(d2)"
   ]
  },
  {
   "cell_type": "code",
   "execution_count": 11,
   "id": "3a13a320",
   "metadata": {},
   "outputs": [
    {
     "name": "stdout",
     "output_type": "stream",
     "text": [
      "['__class__', '__class_getitem__', '__contains__', '__delattr__', '__delitem__', '__dir__', '__doc__', '__eq__', '__format__', '__ge__', '__getattribute__', '__getitem__', '__gt__', '__hash__', '__init__', '__init_subclass__', '__ior__', '__iter__', '__le__', '__len__', '__lt__', '__ne__', '__new__', '__or__', '__reduce__', '__reduce_ex__', '__repr__', '__reversed__', '__ror__', '__setattr__', '__setitem__', '__sizeof__', '__str__', '__subclasshook__', 'clear', 'copy', 'fromkeys', 'get', 'items', 'keys', 'pop', 'popitem', 'setdefault', 'update', 'values']\n"
     ]
    }
   ],
   "source": [
    "# dictionary methods\n",
    "\n",
    "print(dir(dict))"
   ]
  },
  {
   "cell_type": "code",
   "execution_count": 12,
   "id": "cc053cd6",
   "metadata": {},
   "outputs": [
    {
     "name": "stdout",
     "output_type": "stream",
     "text": [
      "{1: '0222'}\n"
     ]
    }
   ],
   "source": [
    "d1[1]='0222'\n",
    "print(d1)"
   ]
  },
  {
   "cell_type": "code",
   "execution_count": 13,
   "id": "91a22d48",
   "metadata": {},
   "outputs": [
    {
     "name": "stdout",
     "output_type": "stream",
     "text": [
      "{'Name': 'krishna', 'Rollno': 375, 'Branch': 'CSE'}\n",
      "dict_keys(['Name', 'Rollno', 'Branch'])\n"
     ]
    }
   ],
   "source": [
    "# keys(): -- to get the key names froma dictionary.\n",
    "print(d2)\n",
    "print(d2.keys())\n"
   ]
  },
  {
   "cell_type": "code",
   "execution_count": 14,
   "id": "f312382b",
   "metadata": {},
   "outputs": [
    {
     "name": "stdout",
     "output_type": "stream",
     "text": [
      "dict_values(['krishna', 375, 'CSE'])\n"
     ]
    }
   ],
   "source": [
    "# values(): -- to get the dictionary values.\n",
    "\n",
    "print(d2.values())"
   ]
  },
  {
   "cell_type": "code",
   "execution_count": null,
   "id": "eed302f2",
   "metadata": {},
   "outputs": [],
   "source": [
    "# items() -- "
   ]
  },
  {
   "cell_type": "code",
   "execution_count": 15,
   "id": "8c8bdc04",
   "metadata": {},
   "outputs": [
    {
     "name": "stdout",
     "output_type": "stream",
     "text": [
      "{'Name': 'krishna', 'Rollno': 375, 'Branch': 'CSE'}\n",
      "{'Name': 'krishna', 'Rollno': 375, 'Branch': 'CSE'}\n"
     ]
    }
   ],
   "source": [
    "## copy() \n",
    "\n",
    "print(d2)\n",
    "d5=d2.copy()\n",
    "print(d5)"
   ]
  },
  {
   "cell_type": "code",
   "execution_count": 16,
   "id": "42cee0a3",
   "metadata": {},
   "outputs": [
    {
     "name": "stdout",
     "output_type": "stream",
     "text": [
      "{'Name': 'krishna', 'Rollno': 375, 'Branch': 'CSE'}\n",
      "krishna\n"
     ]
    }
   ],
   "source": [
    "# get(): -- to get the value of specific keyname.\n",
    "\n",
    "print(d2)\n",
    "print(d2.get('Name'))"
   ]
  },
  {
   "cell_type": "code",
   "execution_count": null,
   "id": "585c4fe5",
   "metadata": {},
   "outputs": [],
   "source": [
    "# setdefault() -- to add new item to the end of the dictionary\n"
   ]
  },
  {
   "cell_type": "code",
   "execution_count": 19,
   "id": "16ed0f5a",
   "metadata": {},
   "outputs": [
    {
     "name": "stdout",
     "output_type": "stream",
     "text": [
      "{'Name': 'krishna', 'Rollno': 375, 'Branch': 'ECE'}\n",
      "{'Name': 'krishna', 'Rollno': 375, 'Branch': 'ECE'}\n",
      "{'Name': 'krishna', 'Rollno': 375, 'Branch': 'ECE', 'Course': 'Data analyst'}\n"
     ]
    }
   ],
   "source": [
    "#update(): -- to update the any data.\n",
    "print(d2)\n",
    "d2.update({'Branch':'ECE'})\n",
    "print(d2)\n",
    "d2.update({'Course':'Data analyst'})\n",
    "print(d2)"
   ]
  },
  {
   "cell_type": "code",
   "execution_count": 21,
   "id": "af01801d",
   "metadata": {},
   "outputs": [
    {
     "name": "stdout",
     "output_type": "stream",
     "text": [
      "{'Name': 'krishna', 'Rollno': 375, 'Branch': 'ECE', 'Course': 'Data analyst'}\n",
      "Data analyst\n",
      "{'Name': 'krishna', 'Rollno': 375, 'Branch': 'ECE'}\n"
     ]
    }
   ],
   "source": [
    "#pop(): -- to delete an item from dictionary using keyname.\n",
    "print(d2)\n",
    "print(d2.pop('Course'))\n",
    "print(d2)"
   ]
  },
  {
   "cell_type": "code",
   "execution_count": 27,
   "id": "6a3e5ec7",
   "metadata": {},
   "outputs": [
    {
     "name": "stdout",
     "output_type": "stream",
     "text": [
      "{'Name': 'krishna', 'Rollno': 370, 'Branch': 'CSE'}\n",
      "{'Name': 'krishna', 'Rollno': 370}\n"
     ]
    }
   ],
   "source": [
    "#popitem(): -- to delete last item from a dictionary.\n",
    "d2={'Name':'krishna','Rollno':370,'Branch':'CSE'}\n",
    "print(d2)\n",
    "d2.popitem()\n",
    "print(d2)\n",
    "\n"
   ]
  },
  {
   "cell_type": "code",
   "execution_count": 30,
   "id": "9852457c",
   "metadata": {},
   "outputs": [
    {
     "name": "stdout",
     "output_type": "stream",
     "text": [
      "{'Sname': None, 'Srollno': None, 'Sbranch': None}\n",
      "{'Sname': 'Surya', 'Srollno': None, 'Sbranch': None}\n"
     ]
    }
   ],
   "source": [
    "#fromkeys(): -- to create new dictionary with keynames..\n",
    "\n",
    "dict1=dict.fromkeys(['Sname','Srollno','Sbranch'])\n",
    "print(dict1)\n",
    "dict1['Sname']=\"Surya\"\n",
    "print(dict1)"
   ]
  },
  {
   "cell_type": "code",
   "execution_count": 31,
   "id": "c1183cec",
   "metadata": {},
   "outputs": [
    {
     "name": "stdout",
     "output_type": "stream",
     "text": [
      "{'Name': 'krishna', 'Rollno': 370}\n",
      "{}\n"
     ]
    }
   ],
   "source": [
    "#clear(): -- to clear all the data\n",
    "\n",
    "print(d2)\n",
    "d2.clear()\n",
    "print(d2)"
   ]
  },
  {
   "cell_type": "code",
   "execution_count": 41,
   "id": "345aa525",
   "metadata": {},
   "outputs": [
    {
     "name": "stdout",
     "output_type": "stream",
     "text": [
      "{1: 24}\n"
     ]
    }
   ],
   "source": [
    "d6={1:24,2:55,3:19,4:89,5:33,6:13}\n",
    "\n",
    "# to print the even keynames item.\n",
    "d3={}\n",
    "for i,j in d6.items():\n",
    "    if j%2 == 0:\n",
    "        d3[i]=j\n",
    "print(d3)"
   ]
  },
  {
   "cell_type": "code",
   "execution_count": 42,
   "id": "6ac6349b",
   "metadata": {},
   "outputs": [],
   "source": [
    "# to read one string and then print the character frequency\n",
    "# to read the list of string element and then print the length of each string\n",
    "# input: L=['python','programming','java','SQL']\n",
    "#output: d1={'python':6}\n"
   ]
  },
  {
   "cell_type": "markdown",
   "id": "2ff1033f",
   "metadata": {},
   "source": [
    "### nested dictionaries:\n",
    "    - Dictionary can contain dictionaries.\n",
    "   "
   ]
  },
  {
   "cell_type": "code",
   "execution_count": 43,
   "id": "13e4ecc6",
   "metadata": {},
   "outputs": [
    {
     "name": "stdout",
     "output_type": "stream",
     "text": [
      "{'btech': {'name': 'aadyan', 'Rollno': '370', 'branch': 'CSE'}, 'MBA': {'Name': 'Surya', 'rollno': '357', 'branch': 'business application'}}\n"
     ]
    }
   ],
   "source": [
    "#nested dictionaries with example\n",
    "\n",
    "clg={\n",
    "    'btech':{\n",
    "        'name':'aadyan',\n",
    "        'Rollno':'370',\n",
    "        'branch':'CSE'},\n",
    "    'MBA':{\n",
    "        'Name':'Surya',\n",
    "        'rollno':'357',\n",
    "        'branch':'business application'\n",
    "    }\n",
    "}\n",
    "print(clg)"
   ]
  },
  {
   "cell_type": "code",
   "execution_count": 44,
   "id": "89ddd0e6",
   "metadata": {},
   "outputs": [
    {
     "name": "stdout",
     "output_type": "stream",
     "text": [
      "aadyan\n"
     ]
    }
   ],
   "source": [
    "# to access the data from nested dictionaries:\n",
    "\n",
    "print(clg['btech']['name'])"
   ]
  },
  {
   "cell_type": "code",
   "execution_count": null,
   "id": "2c94fa56",
   "metadata": {},
   "outputs": [],
   "source": [
    "i=1\n",
    "while i<=10"
   ]
  },
  {
   "cell_type": "code",
   "execution_count": null,
   "id": "10a8c13f",
   "metadata": {},
   "outputs": [],
   "source": []
  }
 ],
 "metadata": {
  "kernelspec": {
   "display_name": "Python 3 (ipykernel)",
   "language": "python",
   "name": "python3"
  },
  "language_info": {
   "codemirror_mode": {
    "name": "ipython",
    "version": 3
   },
   "file_extension": ".py",
   "mimetype": "text/x-python",
   "name": "python",
   "nbconvert_exporter": "python",
   "pygments_lexer": "ipython3",
   "version": "3.10.9"
  }
 },
 "nbformat": 4,
 "nbformat_minor": 5
}

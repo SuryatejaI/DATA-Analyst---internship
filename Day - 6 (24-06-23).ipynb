{
 "cells": [
  {
   "cell_type": "markdown",
   "id": "d3f5335e",
   "metadata": {},
   "source": [
    "### DATA Structures:\n",
    "\n",
    "* Data structures are a way to organizing and storing data. \n",
    "* Types of data structures:\n",
    "    * List\n",
    "    * Tuple\n",
    "    * Dictionary\n",
    "    * Sets"
   ]
  },
  {
   "cell_type": "markdown",
   "id": "4235fd36",
   "metadata": {},
   "source": [
    "### Lists\n",
    "\n",
    "* List is a ordered collection of items which contains data of smiliar type or different types.\n",
    "* Lists allows duplicates\n",
    "* lists is mutable i.e. we can able to change items inside a list after creation of list.\n",
    "* list are created by using [ ]"
   ]
  },
  {
   "cell_type": "code",
   "execution_count": 1,
   "id": "78457e8f",
   "metadata": {},
   "outputs": [
    {
     "data": {
      "text/plain": [
       "list"
      ]
     },
     "execution_count": 1,
     "metadata": {},
     "output_type": "execute_result"
    }
   ],
   "source": [
    "l=[]\n",
    "type(l)"
   ]
  },
  {
   "cell_type": "code",
   "execution_count": 2,
   "id": "b062d12e",
   "metadata": {},
   "outputs": [
    {
     "data": {
      "text/plain": [
       "list"
      ]
     },
     "execution_count": 2,
     "metadata": {},
     "output_type": "execute_result"
    }
   ],
   "source": [
    "l1=list()\n",
    "type(l1)"
   ]
  },
  {
   "cell_type": "code",
   "execution_count": 5,
   "id": "ed4bcd2f",
   "metadata": {},
   "outputs": [
    {
     "name": "stdout",
     "output_type": "stream",
     "text": [
      "[12, 45.3, 12, 'python']\n"
     ]
    }
   ],
   "source": [
    "l=[12,45.3,12,'python']\n",
    "print(l)"
   ]
  },
  {
   "cell_type": "code",
   "execution_count": 11,
   "id": "2764d6a8",
   "metadata": {},
   "outputs": [
    {
     "name": "stdout",
     "output_type": "stream",
     "text": [
      "<class 'list'>\n",
      "8\n",
      "90\n",
      "1\n",
      "172\n",
      "[1, 2, 3, 7, 8, 16, 45, 90]\n"
     ]
    }
   ],
   "source": [
    "l=[1,2,3,45,16,7,8,90]\n",
    "print(type(l))\n",
    "print(len(l))\n",
    "print(max(l))\n",
    "print(min(l))\n",
    "print(sum(l))\n",
    "print(sorted(l))"
   ]
  },
  {
   "cell_type": "code",
   "execution_count": null,
   "id": "4160c578",
   "metadata": {},
   "outputs": [],
   "source": [
    "## accessing and slicing"
   ]
  },
  {
   "cell_type": "code",
   "execution_count": 12,
   "id": "efa53a8a",
   "metadata": {},
   "outputs": [
    {
     "name": "stdout",
     "output_type": "stream",
     "text": [
      "67\n",
      "89\n"
     ]
    }
   ],
   "source": [
    "### accesing elements inside the list\n",
    "\n",
    "l1=[23,45,67,89,34]\n",
    "print(l1[2])\n",
    "print(l1[-2])\n"
   ]
  },
  {
   "cell_type": "code",
   "execution_count": 13,
   "id": "ae6c99a9",
   "metadata": {},
   "outputs": [
    {
     "name": "stdout",
     "output_type": "stream",
     "text": [
      "23\n",
      "45\n",
      "67\n",
      "89\n",
      "34\n"
     ]
    }
   ],
   "source": [
    "l1=[23,45,67,89,34]\n",
    "\n",
    "for i in range(len(l1)):\n",
    "    print(l1[i])"
   ]
  },
  {
   "cell_type": "code",
   "execution_count": 16,
   "id": "9476be1e",
   "metadata": {},
   "outputs": [
    {
     "name": "stdout",
     "output_type": "stream",
     "text": [
      "[23, 45, 67, 89, 34]\n",
      "[23, 45, 67, 89, 34]\n",
      "[23, 45, 67, 89, 34]\n",
      "[23, 45, 67, 89, 34]\n",
      "[23, 45, 67, 89, 34]\n"
     ]
    }
   ],
   "source": [
    "for i in l1:\n",
    "    print(l1)"
   ]
  },
  {
   "cell_type": "code",
   "execution_count": 18,
   "id": "aa09f837",
   "metadata": {},
   "outputs": [
    {
     "name": "stdout",
     "output_type": "stream",
     "text": [
      "23\n",
      "67\n",
      "34\n"
     ]
    }
   ],
   "source": [
    "for i in range(0,len(l1),2):\n",
    "    print(l1[i])"
   ]
  },
  {
   "cell_type": "code",
   "execution_count": 19,
   "id": "4a09e096",
   "metadata": {},
   "outputs": [
    {
     "name": "stdout",
     "output_type": "stream",
     "text": [
      "['__add__', '__class__', '__class_getitem__', '__contains__', '__delattr__', '__delitem__', '__dir__', '__doc__', '__eq__', '__format__', '__ge__', '__getattribute__', '__getitem__', '__gt__', '__hash__', '__iadd__', '__imul__', '__init__', '__init_subclass__', '__iter__', '__le__', '__len__', '__lt__', '__mul__', '__ne__', '__new__', '__reduce__', '__reduce_ex__', '__repr__', '__reversed__', '__rmul__', '__setattr__', '__setitem__', '__sizeof__', '__str__', '__subclasshook__', 'append', 'clear', 'copy', 'count', 'extend', 'index', 'insert', 'pop', 'remove', 'reverse', 'sort']\n"
     ]
    }
   ],
   "source": [
    "print(dir(list))"
   ]
  },
  {
   "cell_type": "code",
   "execution_count": 20,
   "id": "0f6aeee8",
   "metadata": {},
   "outputs": [
    {
     "name": "stdout",
     "output_type": "stream",
     "text": [
      "[1, 2, 3, 4, 5, 6]\n"
     ]
    }
   ],
   "source": [
    "l=[1,2,3,4,5]\n",
    "l.append(6)\n",
    "print(l)"
   ]
  },
  {
   "cell_type": "code",
   "execution_count": 22,
   "id": "8e49f2c0",
   "metadata": {},
   "outputs": [
    {
     "name": "stdout",
     "output_type": "stream",
     "text": [
      "[1, 2, 3, 4, 5, 6]\n"
     ]
    }
   ],
   "source": [
    "l=[1,2,3,4,5]\n",
    "l1=[6]\n",
    "l=l+l1\n",
    "print(l)"
   ]
  },
  {
   "cell_type": "code",
   "execution_count": 24,
   "id": "0e4d6b5a",
   "metadata": {},
   "outputs": [
    {
     "name": "stdout",
     "output_type": "stream",
     "text": [
      "no of elements : 5\n",
      "Enter element : 2\n",
      "Enter element : 4\n",
      "Enter element : 6\n",
      "Enter element : 8\n",
      "Enter element : 10\n",
      "[2, 4, 6, 8, 10]\n"
     ]
    }
   ],
   "source": [
    "l=[]\n",
    "n=int(input(\"no of elements : \"))\n",
    "\n",
    "for i in range(0,n):\n",
    "    e=int(input(\"Enter element : \"))\n",
    "    l.append(e)\n",
    "print(l)"
   ]
  },
  {
   "cell_type": "code",
   "execution_count": 25,
   "id": "a498d361",
   "metadata": {},
   "outputs": [
    {
     "name": "stdout",
     "output_type": "stream",
     "text": [
      "[1, 2, 3, 4, 5, [6, 7, 8, 9]]\n"
     ]
    }
   ],
   "source": [
    "l1=[1,2,3,4,5]\n",
    "l2=[6,7,8,9]\n",
    "l1.append(l2)\n",
    "print(l1)"
   ]
  },
  {
   "cell_type": "code",
   "execution_count": 26,
   "id": "a54ec82a",
   "metadata": {},
   "outputs": [
    {
     "name": "stdout",
     "output_type": "stream",
     "text": [
      "[1, 2, 3, 4, 5, 6, 7, 8, 9]\n"
     ]
    }
   ],
   "source": [
    "l1=[1,2,3,4,5]\n",
    "l2=[6,7,8,9]\n",
    "l1.extend(l2)\n",
    "print(l1)"
   ]
  },
  {
   "cell_type": "code",
   "execution_count": 27,
   "id": "7bb8f6eb",
   "metadata": {},
   "outputs": [
    {
     "name": "stdout",
     "output_type": "stream",
     "text": [
      "[10, 20, 30, 100, 40]\n"
     ]
    }
   ],
   "source": [
    "l3=[10,20,30,40]\n",
    "l3.insert(3,100)\n",
    "print(l3)"
   ]
  },
  {
   "cell_type": "code",
   "execution_count": 31,
   "id": "560fa9d4",
   "metadata": {},
   "outputs": [
    {
     "name": "stdout",
     "output_type": "stream",
     "text": [
      "[10, 20, 30, 100, 40, 90, 30, 35, 90, 30, 35, 90, 30, 35, 90, 30, 35]\n"
     ]
    }
   ],
   "source": [
    "l3.extend([90,30,35])\n",
    "print(l3)"
   ]
  },
  {
   "cell_type": "code",
   "execution_count": 32,
   "id": "621439bf",
   "metadata": {},
   "outputs": [
    {
     "data": {
      "text/plain": [
       "5"
      ]
     },
     "execution_count": 32,
     "metadata": {},
     "output_type": "execute_result"
    }
   ],
   "source": [
    "l3.count(30)"
   ]
  },
  {
   "cell_type": "code",
   "execution_count": 34,
   "id": "20474a0d",
   "metadata": {},
   "outputs": [
    {
     "name": "stdout",
     "output_type": "stream",
     "text": [
      "[10, 20, 100, 40, 90, 35, 90, 30, 35, 90, 30, 35, 90, 30, 35]\n"
     ]
    }
   ],
   "source": [
    "l3.remove(30)\n",
    "print(l3)"
   ]
  },
  {
   "cell_type": "code",
   "execution_count": 35,
   "id": "ffb86d38",
   "metadata": {},
   "outputs": [
    {
     "name": "stdout",
     "output_type": "stream",
     "text": [
      "[10, 20, 100, 40, 90, 35, 90, 35, 90, 30, 35, 90, 30, 35]\n"
     ]
    }
   ],
   "source": [
    "l3.pop(7)\n",
    "print(l3)"
   ]
  },
  {
   "cell_type": "code",
   "execution_count": 38,
   "id": "5836f906",
   "metadata": {},
   "outputs": [
    {
     "name": "stdout",
     "output_type": "stream",
     "text": [
      "[5, 4, 3, 2, 1]\n",
      "[5, 4, 3, 2, 1]\n"
     ]
    }
   ],
   "source": [
    "l4=[1,2,3,4,5]\n",
    "l4.reverse()\n",
    "print(l4)\n",
    "l5=[1,2,3,4,5]\n",
    "print(l5[::-1])"
   ]
  },
  {
   "cell_type": "code",
   "execution_count": 40,
   "id": "e40861ee",
   "metadata": {},
   "outputs": [
    {
     "name": "stdout",
     "output_type": "stream",
     "text": [
      "Increascing order :  [2, 3, 4, 8, 12, 23, 45, 67]\n",
      "Decreascing order :  [67, 45, 23, 12, 8, 4, 3, 2]\n"
     ]
    }
   ],
   "source": [
    "l6=[12,2,3,4,45,23,67,8]\n",
    "l6.sort()\n",
    "print(\"Increascing order : \",l6)\n",
    "l6.sort(reverse=True)\n",
    "print(\"Decreascing order : \",l6)"
   ]
  },
  {
   "cell_type": "code",
   "execution_count": 41,
   "id": "2a55d65c",
   "metadata": {},
   "outputs": [
    {
     "name": "stdout",
     "output_type": "stream",
     "text": [
      "True\n"
     ]
    }
   ],
   "source": [
    "l6=[12,2,3,4,45,23,67,8]\n",
    "print(45 in l6)"
   ]
  },
  {
   "cell_type": "code",
   "execution_count": 42,
   "id": "2e37305f",
   "metadata": {},
   "outputs": [
    {
     "name": "stdout",
     "output_type": "stream",
     "text": [
      "False\n"
     ]
    }
   ],
   "source": [
    "l6=[12,2,3,4,45,23,67,8]\n",
    "print(34 in l6)"
   ]
  },
  {
   "cell_type": "code",
   "execution_count": 45,
   "id": "c2f51480",
   "metadata": {},
   "outputs": [
    {
     "name": "stdout",
     "output_type": "stream",
     "text": [
      "[1, 2, 3]\n",
      "[1, 2, 3]\n",
      "[1, 2, 3, 4]\n",
      "[1, 2, 3, 4]\n"
     ]
    }
   ],
   "source": [
    "# assignment\n",
    "\n",
    "l=[1,2,3]\n",
    "al=l\n",
    "print(l)\n",
    "print(al)\n",
    "al.append(4)\n",
    "print(l)\n",
    "print(al)"
   ]
  },
  {
   "cell_type": "code",
   "execution_count": 47,
   "id": "fd0385a2",
   "metadata": {},
   "outputs": [
    {
     "name": "stdout",
     "output_type": "stream",
     "text": [
      "[1, 2, 3]\n",
      "[1, 2, 3]\n",
      "[1, 2, 3]\n",
      "[1, 2, 3, 4]\n"
     ]
    }
   ],
   "source": [
    "#copy\n",
    "\n",
    "l=[1,2,3]\n",
    "al=l.copy()\n",
    "print(l)\n",
    "print(al)\n",
    "al.append(4)\n",
    "print(l)\n",
    "print(al)"
   ]
  },
  {
   "cell_type": "code",
   "execution_count": 49,
   "id": "2e0b5dc0",
   "metadata": {},
   "outputs": [
    {
     "name": "stdout",
     "output_type": "stream",
     "text": [
      "[]\n"
     ]
    }
   ],
   "source": [
    "l.clear()\n",
    "print(l)"
   ]
  },
  {
   "cell_type": "code",
   "execution_count": 50,
   "id": "86251afb",
   "metadata": {},
   "outputs": [
    {
     "name": "stdout",
     "output_type": "stream",
     "text": [
      "[]\n"
     ]
    }
   ],
   "source": [
    "print(l)"
   ]
  },
  {
   "cell_type": "code",
   "execution_count": 51,
   "id": "3ced77b1",
   "metadata": {},
   "outputs": [
    {
     "data": {
      "text/plain": [
       "[]"
      ]
     },
     "execution_count": 51,
     "metadata": {},
     "output_type": "execute_result"
    }
   ],
   "source": [
    "l"
   ]
  },
  {
   "cell_type": "code",
   "execution_count": 56,
   "id": "f1914163",
   "metadata": {},
   "outputs": [
    {
     "name": "stdout",
     "output_type": "stream",
     "text": [
      "{98, 3, 10, 78, 56}\n"
     ]
    }
   ],
   "source": [
    "## unique elements\n",
    "\n",
    "l=[10,78,98,56,10,3,78]\n",
    "l1=set(l)\n",
    "print(l1)"
   ]
  },
  {
   "cell_type": "code",
   "execution_count": 57,
   "id": "af334556",
   "metadata": {},
   "outputs": [
    {
     "name": "stdout",
     "output_type": "stream",
     "text": [
      "[98, 56, 3]\n"
     ]
    }
   ],
   "source": [
    "l=[10,78,98,56,10,3,78]\n",
    "l1=[]\n",
    "for i in l:\n",
    "    if i not in l1:\n",
    "        l1.append(i)\n",
    "    else:\n",
    "        l1.remove(i)\n",
    "print(l1)"
   ]
  },
  {
   "cell_type": "code",
   "execution_count": 58,
   "id": "e0ed4788",
   "metadata": {},
   "outputs": [
    {
     "data": {
      "text/plain": [
       "[10, 78, 10, 78]"
      ]
     },
     "execution_count": 58,
     "metadata": {},
     "output_type": "execute_result"
    }
   ],
   "source": [
    "l=[10,78,98,56,10,3,78]\n",
    "nl=[]\n",
    "for i in l:\n",
    "    if l.count(i)==2:\n",
    "        nl.append(i)\n",
    "nl"
   ]
  },
  {
   "cell_type": "code",
   "execution_count": null,
   "id": "92eda3f9",
   "metadata": {},
   "outputs": [],
   "source": []
  }
 ],
 "metadata": {
  "kernelspec": {
   "display_name": "Python 3 (ipykernel)",
   "language": "python",
   "name": "python3"
  },
  "language_info": {
   "codemirror_mode": {
    "name": "ipython",
    "version": 3
   },
   "file_extension": ".py",
   "mimetype": "text/x-python",
   "name": "python",
   "nbconvert_exporter": "python",
   "pygments_lexer": "ipython3",
   "version": "3.10.9"
  }
 },
 "nbformat": 4,
 "nbformat_minor": 5
}

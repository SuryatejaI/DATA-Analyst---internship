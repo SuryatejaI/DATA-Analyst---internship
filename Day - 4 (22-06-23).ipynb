{
 "cells": [
  {
   "cell_type": "markdown",
   "id": "3a1cb753",
   "metadata": {},
   "source": [
    "### while loop with else block\n",
    "\n",
    "* We can also use while with optional else block.\n",
    "* The else part is executed if the condition in thw while loop evaluates to false.\n",
    "* If the while loop is terminated with a break statement, in such cases else part is ignored.\n",
    "* While loop else part runs only if no break occurs and the condition if false.\n"
   ]
  },
  {
   "cell_type": "code",
   "execution_count": 6,
   "id": "37c7ea96",
   "metadata": {},
   "outputs": [
    {
     "name": "stdout",
     "output_type": "stream",
     "text": [
      "Inside while loop\n",
      "Inside while loop\n",
      "Inside while loop\n",
      "Inside while loop\n",
      "Inside else\n"
     ]
    }
   ],
   "source": [
    "counter=0\n",
    "\n",
    "while counter<4:\n",
    "    print(\"Inside while loop\")\n",
    "    counter=counter+1\n",
    "else:\n",
    "    print(\"Inside else\")"
   ]
  },
  {
   "cell_type": "code",
   "execution_count": 12,
   "id": "0d0498b9",
   "metadata": {},
   "outputs": [
    {
     "name": "stdout",
     "output_type": "stream",
     "text": [
      "1\n",
      "2\n"
     ]
    }
   ],
   "source": [
    "i=1\n",
    "while i<=7:\n",
    "    print(i)\n",
    "    i=i+1\n",
    "    if i==3 or i==4 :\n",
    "        break\n",
    "else:\n",
    "    print(\"This is else part\")"
   ]
  },
  {
   "cell_type": "markdown",
   "id": "3dc5323b",
   "metadata": {},
   "source": [
    "# nested while\n",
    "\n",
    "* While expression:\n",
    "    * while:\n",
    "        * statements\n",
    "    * statements\n",
    "    \n",
    "        "
   ]
  },
  {
   "cell_type": "code",
   "execution_count": 2,
   "id": "a03e38f1",
   "metadata": {},
   "outputs": [
    {
     "name": "stdout",
     "output_type": "stream",
     "text": [
      "1 , 5\n",
      "2 , 6\n",
      "3 , 7\n"
     ]
    }
   ],
   "source": [
    "a=1\n",
    "b=5\n",
    "while a<=3:\n",
    "    while b<=7:\n",
    "        print(a,\",\",b)\n",
    "        a=a+1\n",
    "        b=b+1"
   ]
  },
  {
   "cell_type": "markdown",
   "id": "2ebeeb5b",
   "metadata": {},
   "source": [
    " ### for loop\n",
    " \n",
    " * for loop is used to iterate over sequence like string, list, tuple, range etc."
   ]
  },
  {
   "cell_type": "code",
   "execution_count": 13,
   "id": "f880eeab",
   "metadata": {},
   "outputs": [
    {
     "name": "stdout",
     "output_type": "stream",
     "text": [
      "1 2 3 4 5 6 7 8 9 10 "
     ]
    }
   ],
   "source": [
    "# print 1 to 10 numbers\n",
    "\n",
    "for i in range(1,11):\n",
    "    print(i,end=\" \")"
   ]
  },
  {
   "cell_type": "code",
   "execution_count": 11,
   "id": "8fe60ae4",
   "metadata": {},
   "outputs": [
    {
     "name": "stdout",
     "output_type": "stream",
     "text": [
      "10 9 8 7 6 5 4 3 2 1 "
     ]
    }
   ],
   "source": [
    "# print 1 to 10 in reverse order\n",
    "\n",
    "for i in range(10,0,-1):\n",
    "    print(i,end=\" \")"
   ]
  },
  {
   "cell_type": "code",
   "execution_count": 17,
   "id": "a24fef55",
   "metadata": {
    "scrolled": true
   },
   "outputs": [
    {
     "name": "stdout",
     "output_type": "stream",
     "text": [
      "2 4 6 8 10 12 14 16 18 20 22 24 26 28 30 32 34 36 38 40 42 44 46 48 50 52 54 56 58 60 62 64 66 68 70 72 74 76 78 80 82 84 86 88 90 92 94 96 98 100 "
     ]
    }
   ],
   "source": [
    "# print even numbers from 1 to 100\n",
    "\n",
    "for i in range(2,101,2):\n",
    "    print(i,end=\" \")"
   ]
  },
  {
   "cell_type": "code",
   "execution_count": 22,
   "id": "66ad724e",
   "metadata": {
    "scrolled": true
   },
   "outputs": [
    {
     "name": "stdout",
     "output_type": "stream",
     "text": [
      "S u r y a "
     ]
    }
   ],
   "source": [
    "name=\"Surya\"\n",
    "for ch in name:\n",
    "    print(ch,end=\" \")"
   ]
  },
  {
   "cell_type": "code",
   "execution_count": 23,
   "id": "5bc662a9",
   "metadata": {
    "scrolled": true
   },
   "outputs": [
    {
     "name": "stdout",
     "output_type": "stream",
     "text": [
      "1 3 5 7 9 11 13 15 17 19 21 23 25 27 29 31 33 35 37 39 41 43 45 47 49 51 53 55 57 59 61 63 65 67 69 71 73 75 77 79 81 83 85 87 89 91 93 95 97 99 "
     ]
    }
   ],
   "source": [
    "for i in range(1,101,2):\n",
    "    print(i,end=\" \")"
   ]
  },
  {
   "cell_type": "markdown",
   "id": "36e0d743",
   "metadata": {},
   "source": [
    "# for with else\n",
    "\n",
    "* else part is executed after the for loop is finished."
   ]
  },
  {
   "cell_type": "code",
   "execution_count": 27,
   "id": "418c0afd",
   "metadata": {},
   "outputs": [
    {
     "name": "stdout",
     "output_type": "stream",
     "text": [
      "0\n",
      "1\n",
      "2\n",
      "3\n",
      "4\n",
      "5\n",
      "It is executing\n"
     ]
    }
   ],
   "source": [
    "# print 0 to 5 after that print the message in else part\n",
    "\n",
    "for i in range(0,6):\n",
    "    print(i)\n",
    "    \n",
    "else:\n",
    "    print(\"It is executing\")"
   ]
  },
  {
   "cell_type": "code",
   "execution_count": 30,
   "id": "bb548d69",
   "metadata": {},
   "outputs": [
    {
     "name": "stdout",
     "output_type": "stream",
     "text": [
      "0\n",
      "1\n",
      "2\n"
     ]
    }
   ],
   "source": [
    "# range(6) --> 0,1,2\n",
    "\n",
    "for i in range(6):\n",
    "    if i==3:\n",
    "        break\n",
    "    print(i)\n",
    "else:\n",
    "    print(\"It is executing\")"
   ]
  },
  {
   "cell_type": "markdown",
   "id": "8d4dfec6",
   "metadata": {},
   "source": [
    "### Loop control statements\n",
    "\n",
    "* Loop control statements change execution from its normal sequence.\n",
    "* break\n",
    "* continue\n",
    "* pass"
   ]
  },
  {
   "cell_type": "markdown",
   "id": "b06d3290",
   "metadata": {},
   "source": [
    "### break\n",
    "* The break statement terminates the loop containing it\n",
    "* control of the program flows to the statement immediately after the body of the loop\n",
    "* If the break statement is present inside a nested loop , then it terminates the innermost loop"
   ]
  },
  {
   "cell_type": "code",
   "execution_count": 35,
   "id": "dcd2cbe2",
   "metadata": {},
   "outputs": [
    {
     "name": "stdout",
     "output_type": "stream",
     "text": [
      "S|u|r|y|a|"
     ]
    }
   ],
   "source": [
    "Str=\"Suryateja\"\n",
    "for i in Str:\n",
    "    if i=='t':\n",
    "        break\n",
    "    print(i,end=\"|\")\n",
    "else:\n",
    "    print(\"Exection completed\")"
   ]
  },
  {
   "cell_type": "code",
   "execution_count": 1,
   "id": "f36b94c2",
   "metadata": {},
   "outputs": [
    {
     "name": "stdout",
     "output_type": "stream",
     "text": [
      "0 1 2 3 4 5 6 7 8 9 Outside while loop\n"
     ]
    }
   ],
   "source": [
    "i=0\n",
    "while 1:\n",
    "    print(i,end=\" \")\n",
    "    i=i+1\n",
    "    if i==10:\n",
    "        break\n",
    "print(\"Outside while loop\")"
   ]
  },
  {
   "cell_type": "markdown",
   "id": "2e505ce0",
   "metadata": {},
   "source": [
    "### continue statement\n",
    "\n",
    "* The continue statement is used to skip the rest of the code inside a loop for current iteration only.\n",
    "* Loop does not terminate but continous on with the next iteration"
   ]
  },
  {
   "cell_type": "code",
   "execution_count": 8,
   "id": "bc227d14",
   "metadata": {},
   "outputs": [
    {
     "name": "stdout",
     "output_type": "stream",
     "text": [
      "1 2 3 4 6 7 8 9 10 5 is neglected "
     ]
    }
   ],
   "source": [
    "# print 1 to 10 except 5\n",
    "\n",
    "for i in range(1,11):\n",
    "    if i==5:\n",
    "        continue\n",
    "    print(i,end=\" \")\n"
   ]
  },
  {
   "cell_type": "code",
   "execution_count": 11,
   "id": "3c9b0656",
   "metadata": {},
   "outputs": [
    {
     "name": "stdout",
     "output_type": "stream",
     "text": [
      "1 2 3 4 6 7 8 9 10 "
     ]
    }
   ],
   "source": [
    "i=0\n",
    "while i<10:\n",
    "    i=i+1\n",
    "    if i==5:\n",
    "        continue\n",
    "    print(i,end=\" \")"
   ]
  },
  {
   "cell_type": "code",
   "execution_count": 15,
   "id": "5c5282aa",
   "metadata": {},
   "outputs": [
    {
     "name": "stdout",
     "output_type": "stream",
     "text": [
      "a s s d c "
     ]
    }
   ],
   "source": [
    "str=\"apssdc\"\n",
    "for i in str:\n",
    "    if i=='p':\n",
    "        continue\n",
    "    print(i,end=\" \")"
   ]
  },
  {
   "cell_type": "markdown",
   "id": "5975a8f0",
   "metadata": {},
   "source": [
    "### pass statement\n",
    "\n",
    "* pass statement is a null statement"
   ]
  },
  {
   "cell_type": "code",
   "execution_count": 16,
   "id": "9a4cc398",
   "metadata": {},
   "outputs": [],
   "source": [
    "name=\"Surya\"\n",
    "for i in name:\n",
    "    pass"
   ]
  },
  {
   "cell_type": "code",
   "execution_count": 17,
   "id": "d5eb22d1",
   "metadata": {},
   "outputs": [
    {
     "name": "stdout",
     "output_type": "stream",
     "text": [
      "3\n",
      "5\n"
     ]
    }
   ],
   "source": [
    "for num in [2,3,4,5,6]:\n",
    "    if num%2==0:\n",
    "        pass\n",
    "    else:\n",
    "        print(num)"
   ]
  },
  {
   "cell_type": "markdown",
   "id": "2d8ba5fd",
   "metadata": {},
   "source": [
    "join Zoom Meeting\n",
    "https://zoom.us/j/95848204283?pwd=RHJ5bm1ycG1zWHdCSDNVdDVYVXJvZz09\n",
    "\n",
    "Meeting ID: 958 4820 4283\n",
    "Passcode: 275636"
   ]
  },
  {
   "cell_type": "code",
   "execution_count": null,
   "id": "93df19d3",
   "metadata": {},
   "outputs": [],
   "source": []
  }
 ],
 "metadata": {
  "kernelspec": {
   "display_name": "Python 3 (ipykernel)",
   "language": "python",
   "name": "python3"
  },
  "language_info": {
   "codemirror_mode": {
    "name": "ipython",
    "version": 3
   },
   "file_extension": ".py",
   "mimetype": "text/x-python",
   "name": "python",
   "nbconvert_exporter": "python",
   "pygments_lexer": "ipython3",
   "version": "3.10.9"
  }
 },
 "nbformat": 4,
 "nbformat_minor": 5
}

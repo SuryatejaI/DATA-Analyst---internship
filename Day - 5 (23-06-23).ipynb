{
 "cells": [
  {
   "cell_type": "code",
   "execution_count": 1,
   "id": "c515ad48",
   "metadata": {},
   "outputs": [
    {
     "name": "stdout",
     "output_type": "stream",
     "text": [
      "python programming\n",
      "<class 'str'>\n"
     ]
    }
   ],
   "source": [
    "# string Initization\n",
    "\n",
    "s1='python programming'\n",
    "print(s1)\n",
    "print(type(s1))"
   ]
  },
  {
   "cell_type": "code",
   "execution_count": 2,
   "id": "30ee8b0e",
   "metadata": {},
   "outputs": [
    {
     "name": "stdout",
     "output_type": "stream",
     "text": [
      "Data Analyst Internship\n",
      "<class 'str'>\n"
     ]
    }
   ],
   "source": [
    "# string Initization\n",
    "\n",
    "s2=\"Data Analyst Internship\"\n",
    "print(s2)\n",
    "print(type(s2))"
   ]
  },
  {
   "cell_type": "code",
   "execution_count": 3,
   "id": "16175249",
   "metadata": {},
   "outputs": [
    {
     "name": "stdout",
     "output_type": "stream",
     "text": [
      " Data analyst internship\n",
      "        using python programming\n",
      "            by APSSDC\n",
      "<class 'str'>\n"
     ]
    }
   ],
   "source": [
    "# string Initization\n",
    "\n",
    "s3=''' Data analyst internship\n",
    "        using python programming\n",
    "            by APSSDC'''\n",
    "print(s3)\n",
    "print(type(s3))"
   ]
  },
  {
   "cell_type": "code",
   "execution_count": 4,
   "id": "b644cc3f",
   "metadata": {},
   "outputs": [
    {
     "name": "stdout",
     "output_type": "stream",
     "text": [
      "Enter first stringSurya \n",
      "Enter second stringTeja\n",
      "Surya Teja\n",
      "Surya  Teja\n"
     ]
    }
   ],
   "source": [
    "#String concatination\n",
    "\n",
    "str1=input(\"Enter first string\")\n",
    "str2=input(\"Enter second string\")\n",
    "print(str1+str2)\n",
    "print(str1,str2)"
   ]
  },
  {
   "cell_type": "code",
   "execution_count": 5,
   "id": "6a3f92de",
   "metadata": {},
   "outputs": [
    {
     "name": "stdout",
     "output_type": "stream",
     "text": [
      "python python python python  "
     ]
    }
   ],
   "source": [
    "# string repetetion\n",
    "\n",
    "s=\"python \"\n",
    "print(s*4 ,end=\" \")"
   ]
  },
  {
   "cell_type": "code",
   "execution_count": 6,
   "id": "675baba3",
   "metadata": {},
   "outputs": [
    {
     "name": "stdout",
     "output_type": "stream",
     "text": [
      "P y t h o n   p r o g r a m m i n g "
     ]
    }
   ],
   "source": [
    "# To print the each character using forloop..\n",
    "\n",
    "s='Python programming'\n",
    "for i in s:\n",
    "    print(i,end=\" \")"
   ]
  },
  {
   "cell_type": "code",
   "execution_count": 7,
   "id": "38c3bfe0",
   "metadata": {},
   "outputs": [
    {
     "name": "stdout",
     "output_type": "stream",
     "text": [
      "65\n"
     ]
    }
   ],
   "source": [
    "# to print the ascii value of a given character?\n",
    "\n",
    "print(ord('A'))"
   ]
  },
  {
   "cell_type": "code",
   "execution_count": 8,
   "id": "a5fcf9d1",
   "metadata": {},
   "outputs": [
    {
     "name": "stdout",
     "output_type": "stream",
     "text": [
      "C\n"
     ]
    }
   ],
   "source": [
    "# to print the character of given ascii value?\n",
    "\n",
    "print(chr(67))"
   ]
  },
  {
   "cell_type": "markdown",
   "id": "16a2a9f8",
   "metadata": {},
   "source": [
    "### indexing and slicing\n",
    "\n",
    "* Indexing\n",
    "    * To get the single character.\n",
    "    * Two types of indexing\n",
    "        * Farward indexing - starts from 0 to size-1\n",
    "        * backward indexing - starts from -1\n",
    " *example :\n",
    "        * -5 -4 -3 -2 -1  -> backward indexing\n",
    "        *  S U R Y A  -> string\n",
    "        *  0 1 2 3 4  -> farward indexing\n",
    "          \n",
    "* Slicing\n",
    "     * To get the sequence of a character.\n",
    "     * [ start : stop : step]\n",
    "     * start value is : 0 ->\n",
    "     * stop value is : size-1\n",
    "     * step valuw is : 1\n"
   ]
  },
  {
   "cell_type": "code",
   "execution_count": 9,
   "id": "89c42b3f",
   "metadata": {},
   "outputs": [
    {
     "name": "stdout",
     "output_type": "stream",
     "text": [
      "a\n",
      "D\n",
      "n\n",
      "lysis Internship\n",
      "Data Analysis Internship\n",
      "pihsnretnI sisylanA ataD\n",
      "Dt nlssItrsi\n"
     ]
    }
   ],
   "source": [
    "#indexing and slicing\n",
    "\n",
    "s1= 'Data Analysis Internship'\n",
    "print(s1[3])\n",
    "print(s1[0])\n",
    "print(s1[-9])\n",
    "print(s1[8:])\n",
    "print(s1[::])\n",
    "print(s1[::-1])\n",
    "print(s1[::2])"
   ]
  },
  {
   "cell_type": "code",
   "execution_count": 10,
   "id": "e80d740f",
   "metadata": {},
   "outputs": [
    {
     "name": "stdout",
     "output_type": "stream",
     "text": [
      "Enter a string : Surya\n",
      "Surya\n",
      "5\n",
      "auryS\n"
     ]
    }
   ],
   "source": [
    "# TO read a string and swap the frist and last character\n",
    "\n",
    "str=input(\"Enter a string : \")\n",
    "print(str)\n",
    "print(len(str))\n",
    "print(str[-1]+str[1:len(str)-1]+ str[0])"
   ]
  },
  {
   "cell_type": "code",
   "execution_count": 11,
   "id": "3305449a",
   "metadata": {},
   "outputs": [
    {
     "name": "stdout",
     "output_type": "stream",
     "text": [
      "Enter a string : Python\n",
      "P --> 80\n",
      "y --> 121\n",
      "t --> 116\n",
      "h --> 104\n",
      "o --> 111\n",
      "n --> 110\n"
     ]
    }
   ],
   "source": [
    "# to read a string and then print ascii value of each character\n",
    "\n",
    "str=input(\"Enter a string : \")\n",
    "for i in str:\n",
    "    print(i,'-->',ord(i))"
   ]
  },
  {
   "cell_type": "markdown",
   "id": "4b5793cf",
   "metadata": {},
   "source": [
    "## String methods"
   ]
  },
  {
   "cell_type": "code",
   "execution_count": 12,
   "id": "b3313a08",
   "metadata": {},
   "outputs": [
    {
     "name": "stdout",
     "output_type": "stream",
     "text": [
      "['__add__', '__class__', '__contains__', '__delattr__', '__dir__', '__doc__', '__eq__', '__format__', '__ge__', '__getattribute__', '__getitem__', '__getnewargs__', '__gt__', '__hash__', '__init__', '__init_subclass__', '__iter__', '__le__', '__len__', '__lt__', '__mod__', '__mul__', '__ne__', '__new__', '__reduce__', '__reduce_ex__', '__repr__', '__rmod__', '__rmul__', '__setattr__', '__sizeof__', '__str__', '__subclasshook__', 'capitalize', 'casefold', 'center', 'count', 'encode', 'endswith', 'expandtabs', 'find', 'format', 'format_map', 'index', 'isalnum', 'isalpha', 'isascii', 'isdecimal', 'isdigit', 'isidentifier', 'islower', 'isnumeric', 'isprintable', 'isspace', 'istitle', 'isupper', 'join', 'ljust', 'lower', 'lstrip', 'maketrans', 'partition', 'removeprefix', 'removesuffix', 'replace', 'rfind', 'rindex', 'rjust', 'rpartition', 'rsplit', 'rstrip', 'split', 'splitlines', 'startswith', 'strip', 'swapcase', 'title', 'translate', 'upper', 'zfill']\n"
     ]
    }
   ],
   "source": [
    "print(dir(str))"
   ]
  },
  {
   "cell_type": "code",
   "execution_count": 13,
   "id": "7d62883d",
   "metadata": {},
   "outputs": [
    {
     "name": "stdout",
     "output_type": "stream",
     "text": [
      "Surya\n"
     ]
    }
   ],
   "source": [
    "# To convert the first charcater into uppercase of a string\n",
    "\n",
    "s=\"surya\"\n",
    "print(s.capitalize())"
   ]
  },
  {
   "cell_type": "code",
   "execution_count": 14,
   "id": "145d8b97",
   "metadata": {},
   "outputs": [
    {
     "name": "stdout",
     "output_type": "stream",
     "text": [
      "python\n",
      "python\n"
     ]
    }
   ],
   "source": [
    "# TO convert the strinf into lowercase\n",
    "s1='PYTHON'\n",
    "print(s1.lower())\n",
    "print(s1.casefold())"
   ]
  },
  {
   "cell_type": "code",
   "execution_count": 15,
   "id": "1476a193",
   "metadata": {},
   "outputs": [
    {
     "name": "stdout",
     "output_type": "stream",
     "text": [
      "SURYA\n"
     ]
    }
   ],
   "source": [
    "# To convert the string into uppercase\n",
    "\n",
    "s2='surya'\n",
    "print(s2.upper())"
   ]
  },
  {
   "cell_type": "code",
   "execution_count": 16,
   "id": "f4c7f944",
   "metadata": {},
   "outputs": [
    {
     "name": "stdout",
     "output_type": "stream",
     "text": [
      "sURYA tEJA\n"
     ]
    }
   ],
   "source": [
    "# TO convert the string into lowercase becomes uppercase and viceversa\n",
    "\n",
    "s3='Surya Teja'\n",
    "print(s3.swapcase())"
   ]
  },
  {
   "cell_type": "code",
   "execution_count": 17,
   "id": "63740cae",
   "metadata": {},
   "outputs": [
    {
     "name": "stdout",
     "output_type": "stream",
     "text": [
      "Durga Surya Teja\n"
     ]
    }
   ],
   "source": [
    "# To convert firsr character of each word into uppercase?\n",
    "s4='durga surya teja'\n",
    "print(s4.title())"
   ]
  },
  {
   "cell_type": "code",
   "execution_count": 18,
   "id": "001c77ea",
   "metadata": {},
   "outputs": [
    {
     "name": "stdout",
     "output_type": "stream",
     "text": [
      "Teja\n",
      "Teja    \n",
      "     Teja\n"
     ]
    }
   ],
   "source": [
    "# To remove the white spaces\n",
    "\n",
    "s5=\"     Teja    \"\n",
    "print(s5.strip()) # both left and right side\n",
    "print(s5.lstrip()) #left side\n",
    "print(s5.rstrip()) # right side"
   ]
  },
  {
   "cell_type": "code",
   "execution_count": 19,
   "id": "3e485eab",
   "metadata": {},
   "outputs": [
    {
     "name": "stdout",
     "output_type": "stream",
     "text": [
      "Hello APAADC\n"
     ]
    }
   ],
   "source": [
    "#translate() method \n",
    "\n",
    "d={83:65}\n",
    "s6=\"Hello APSSDC\"\n",
    "print(s6.translate(d))"
   ]
  },
  {
   "cell_type": "code",
   "execution_count": 20,
   "id": "636a08c1",
   "metadata": {},
   "outputs": [
    {
     "name": "stdout",
     "output_type": "stream",
     "text": [
      "PyThon\n"
     ]
    }
   ],
   "source": [
    "s7='Python'\n",
    "\n",
    "r=str.maketrans('t','T')\n",
    "print(s7.translate(r))"
   ]
  },
  {
   "cell_type": "code",
   "execution_count": 21,
   "id": "034488ca",
   "metadata": {},
   "outputs": [
    {
     "name": "stdout",
     "output_type": "stream",
     "text": [
      "['Data', 'analyst', 'using', 'python', 'programming']\n"
     ]
    }
   ],
   "source": [
    "#split():\n",
    "s8=\"Data analyst using python programming\"\n",
    "print(s8.split())"
   ]
  },
  {
   "cell_type": "code",
   "execution_count": 22,
   "id": "4c7e9e7a",
   "metadata": {},
   "outputs": [
    {
     "name": "stdout",
     "output_type": "stream",
     "text": [
      "['apple', 'banana', 'mango', 'orange']\n"
     ]
    }
   ],
   "source": [
    "s9='apple,banana,mango,orange'\n",
    "print(s9.split(','))"
   ]
  },
  {
   "cell_type": "code",
   "execution_count": 23,
   "id": "e4b4c2f5",
   "metadata": {},
   "outputs": [
    {
     "name": "stdout",
     "output_type": "stream",
     "text": [
      "5\n"
     ]
    }
   ],
   "source": [
    "#to count the number of words of given string\n",
    "\n",
    "s10=\"Data analyst using python programming\"\n",
    "print(len(s10.split()))"
   ]
  },
  {
   "cell_type": "code",
   "execution_count": 24,
   "id": "4df2abe6",
   "metadata": {},
   "outputs": [
    {
     "name": "stdout",
     "output_type": "stream",
     "text": [
      "DATA\n",
      "ANALYST\n",
      "USING\n",
      "PYTHON\n",
      "PROGRAMMING\n"
     ]
    }
   ],
   "source": [
    "#To convert each word into uppercase\n",
    "\n",
    "s11=\"Data analyst using python programming\"\n",
    "for i in s11.split():\n",
    "    print(i.upper())"
   ]
  },
  {
   "cell_type": "code",
   "execution_count": 25,
   "id": "1a61bc66",
   "metadata": {},
   "outputs": [
    {
     "name": "stdout",
     "output_type": "stream",
     "text": [
      "5\n"
     ]
    }
   ],
   "source": [
    "# to count the character frequency\n",
    "\n",
    "s12=\"Data analyst using python programming\"\n",
    "print(s12.count('a'))"
   ]
  },
  {
   "cell_type": "code",
   "execution_count": 26,
   "id": "b85afdeb",
   "metadata": {},
   "outputs": [
    {
     "name": "stdout",
     "output_type": "stream",
     "text": [
      "1\n"
     ]
    }
   ],
   "source": [
    "print(s12.index('a'))"
   ]
  },
  {
   "cell_type": "code",
   "execution_count": 27,
   "id": "12fd72c7",
   "metadata": {},
   "outputs": [
    {
     "name": "stdout",
     "output_type": "stream",
     "text": [
      "Enter character : p\n",
      "19\n",
      "26\n"
     ]
    }
   ],
   "source": [
    "s12=\"Data analyst using python programming\"\n",
    "ch=input(\"Enter character : \")\n",
    "for i in range(0,len(s12)-1):\n",
    "    if s12[i]==ch:\n",
    "        print(i)\n",
    "        \n",
    "        "
   ]
  },
  {
   "cell_type": "code",
   "execution_count": 30,
   "id": "d23b8b30",
   "metadata": {},
   "outputs": [],
   "source": [
    "# name starts with a character 'm' of given string\n",
    "\n",
    "s13=\" raju madhulatha rajessh nethra mani nani aadhya\"\n",
    "for i in s13.split():\n",
    "    if(s13.startswith('m')):\n",
    "        print(i)"
   ]
  },
  {
   "cell_type": "code",
   "execution_count": null,
   "id": "1fd0155c",
   "metadata": {},
   "outputs": [],
   "source": [
    "# to print the each character frequnecy of a given string\n",
    "\n",
    "s12=\"Data analyst using python programming\"\n"
   ]
  },
  {
   "cell_type": "code",
   "execution_count": null,
   "id": "05d3d63f",
   "metadata": {},
   "outputs": [],
   "source": []
  },
  {
   "cell_type": "code",
   "execution_count": null,
   "id": "755903d4",
   "metadata": {},
   "outputs": [],
   "source": []
  }
 ],
 "metadata": {
  "kernelspec": {
   "display_name": "Python 3 (ipykernel)",
   "language": "python",
   "name": "python3"
  },
  "language_info": {
   "codemirror_mode": {
    "name": "ipython",
    "version": 3
   },
   "file_extension": ".py",
   "mimetype": "text/x-python",
   "name": "python",
   "nbconvert_exporter": "python",
   "pygments_lexer": "ipython3",
   "version": "3.10.9"
  }
 },
 "nbformat": 4,
 "nbformat_minor": 5
}

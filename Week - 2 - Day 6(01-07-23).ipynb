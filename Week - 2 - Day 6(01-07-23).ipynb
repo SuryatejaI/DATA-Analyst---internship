{
 "cells": [
  {
   "cell_type": "markdown",
   "id": "62d1ead1",
   "metadata": {},
   "source": [
    "### Iterators and Generators:\n",
    "#### Iterators:\n",
    "    - 1. Iterator in python is simply an object that can be iterated upto n.\n",
    "    - 2. It is same as for loop, but difference is we can access the elements as per our requirements.\n",
    "    - 3. Iterator have two methods:\n",
    "        - 1. iter() -> It is used to create iterator object.\n",
    "        - 2. next() -> It return one element at a time, Iterate through all the items of iterator."
   ]
  },
  {
   "cell_type": "code",
   "execution_count": 1,
   "id": "668cab8f",
   "metadata": {},
   "outputs": [
    {
     "name": "stdout",
     "output_type": "stream",
     "text": [
      "1 2 3 4 5 6 7 8 9 10 "
     ]
    }
   ],
   "source": [
    "# using  for loop to print the 1 to 10 natural numbers..\n",
    "\n",
    "for i in range(1,11):\n",
    "    print(i,end=\" \")"
   ]
  },
  {
   "cell_type": "code",
   "execution_count": 7,
   "id": "6a1a0c0c",
   "metadata": {},
   "outputs": [
    {
     "name": "stdout",
     "output_type": "stream",
     "text": [
      "10 20 30 40 50 <list_iterator object at 0x000001C1EC182560>\n",
      "10\n",
      "20\n",
      "30\n",
      "40\n",
      "50\n"
     ]
    }
   ],
   "source": [
    "#example iterator..\n",
    "l1=[10,20,30,40,50]\n",
    "for i in l1:\n",
    "    print(i,end=\" \")\n",
    "    \n",
    "# using iterator\n",
    "I1=iter(l1)      # to create the iterator object\n",
    "print(I1)\n",
    "print(next(I1))\n",
    "print(next(I1))\n",
    "print(next(I1))\n",
    "print(next(I1))\n",
    "print(next(I1))"
   ]
  },
  {
   "cell_type": "markdown",
   "id": "35de9b6d",
   "metadata": {},
   "source": [
    "#### Generator:\n",
    "    - 1. It returns an object, which we can iterate over.\n",
    "    - 2. In generator using 'yeild' keyword we can get the all elements.\n",
    "    - 3. In any function which contains al\\tleast 1 yeild keyword is considered as a generator.\n",
    "    - 4. Generators are always usedin combination with an iterator."
   ]
  },
  {
   "cell_type": "code",
   "execution_count": 10,
   "id": "d5d7e19e",
   "metadata": {},
   "outputs": [
    {
     "name": "stdout",
     "output_type": "stream",
     "text": [
      "<generator object sample at 0x000001C1EE61F220>\n"
     ]
    },
    {
     "data": {
      "text/plain": [
       "[1, 2, 3, 4, 5]"
      ]
     },
     "execution_count": 10,
     "metadata": {},
     "output_type": "execute_result"
    }
   ],
   "source": [
    "# example on generator...\n",
    "def sample():\n",
    "    i=1\n",
    "    while(i<=5):\n",
    "        yield i\n",
    "        i=i+1\n",
    "print(sample())\n",
    "list(sample())"
   ]
  },
  {
   "cell_type": "markdown",
   "id": "2174e898",
   "metadata": {},
   "source": [
    "#### Functional Programming:\n",
    "- Functional programming is programming paradigm in which we try to bind everything in pre mathematical functional style.\n",
    "- python support functional programming.\n"
   ]
  },
  {
   "cell_type": "markdown",
   "id": "930cb0ec",
   "metadata": {},
   "source": [
    "#### lambda:\n",
    "    - It is anonymous function.\n",
    "    - Syntax: lambda arg1,arg2:expression "
   ]
  },
  {
   "cell_type": "code",
   "execution_count": 11,
   "id": "774e98d1",
   "metadata": {},
   "outputs": [
    {
     "data": {
      "text/plain": [
       "40"
      ]
     },
     "execution_count": 11,
     "metadata": {},
     "output_type": "execute_result"
    }
   ],
   "source": [
    "# program to write the using normal functions.\n",
    "def add(a,b):\n",
    "    return a+b\n",
    "add(10,30)"
   ]
  },
  {
   "cell_type": "code",
   "execution_count": 12,
   "id": "2347a850",
   "metadata": {},
   "outputs": [
    {
     "name": "stdout",
     "output_type": "stream",
     "text": [
      "30\n"
     ]
    }
   ],
   "source": [
    "# using program to write using lambda...\n",
    "ad= lambda n1,n2:n1+n2\n",
    "print(ad(10,20))"
   ]
  },
  {
   "cell_type": "code",
   "execution_count": 13,
   "id": "818d2296",
   "metadata": {},
   "outputs": [
    {
     "data": {
      "text/plain": [
       "function"
      ]
     },
     "execution_count": 13,
     "metadata": {},
     "output_type": "execute_result"
    }
   ],
   "source": [
    "type(ad)"
   ]
  },
  {
   "cell_type": "code",
   "execution_count": 15,
   "id": "101a4206",
   "metadata": {},
   "outputs": [
    {
     "name": "stdout",
     "output_type": "stream",
     "text": [
      "36\n"
     ]
    }
   ],
   "source": [
    "# write a program to print the square of a number?\n",
    "\n",
    "ac=lambda n1:n1*n1\n",
    "print(ac(6))"
   ]
  },
  {
   "cell_type": "code",
   "execution_count": 19,
   "id": "7b9aacfd",
   "metadata": {},
   "outputs": [
    {
     "name": "stdout",
     "output_type": "stream",
     "text": [
      "True\n"
     ]
    }
   ],
   "source": [
    "# using if else statements in lambda\n",
    "# write the program to check whether the person age is eligible for vote or not\n",
    "\n",
    "vote=lambda a:True if(a>=18) else False\n",
    "print(vote(19))"
   ]
  },
  {
   "cell_type": "code",
   "execution_count": 20,
   "id": "582ff216",
   "metadata": {},
   "outputs": [
    {
     "data": {
      "text/plain": [
       "True"
      ]
     },
     "execution_count": 20,
     "metadata": {},
     "output_type": "execute_result"
    }
   ],
   "source": [
    "# with out using if-else:\n",
    "# write a program to check whether the number postive number or not?\n",
    "a1=lambda n:(n>0)\n",
    "a1(100)"
   ]
  },
  {
   "cell_type": "code",
   "execution_count": 21,
   "id": "6a9291c7",
   "metadata": {},
   "outputs": [
    {
     "data": {
      "text/plain": [
       "False"
      ]
     },
     "execution_count": 21,
     "metadata": {},
     "output_type": "execute_result"
    }
   ],
   "source": [
    "a1(-34)"
   ]
  },
  {
   "cell_type": "code",
   "execution_count": 22,
   "id": "6ce99301",
   "metadata": {},
   "outputs": [
    {
     "data": {
      "text/plain": [
       "9"
      ]
     },
     "execution_count": 22,
     "metadata": {},
     "output_type": "execute_result"
    }
   ],
   "source": [
    "def my_func(f,arg):\n",
    "    return f(arg)\n",
    "my_func(lambda x:x*x,3)"
   ]
  },
  {
   "cell_type": "raw",
   "id": "79f733df",
   "metadata": {},
   "source": [
    "### Map():\n",
    "    - map() fucntion takes function and iterable as a parameters and applies fuctionality to each item in the iterable.\n",
    "    - syntax: map(function,iterable)"
   ]
  },
  {
   "cell_type": "code",
   "execution_count": 23,
   "id": "47b0ffd1",
   "metadata": {},
   "outputs": [
    {
     "name": "stdout",
     "output_type": "stream",
     "text": [
      "<map object at 0x000001C1EC1824A0>\n",
      "[100, 400, 900, 1600]\n"
     ]
    }
   ],
   "source": [
    "# to print the square of a number:\n",
    "def sq(n):\n",
    "    return n*n\n",
    "\n",
    "f=map(sq,[10,20,30,40])\n",
    "print(f)\n",
    "print(list(f))"
   ]
  },
  {
   "cell_type": "code",
   "execution_count": 25,
   "id": "04bf6fcb",
   "metadata": {},
   "outputs": [
    {
     "data": {
      "text/plain": [
       "[100, 121, 144, 169, 196, 225]"
      ]
     },
     "execution_count": 25,
     "metadata": {},
     "output_type": "execute_result"
    }
   ],
   "source": [
    "list(map(sq,[i for i in range(10,16)]))"
   ]
  },
  {
   "cell_type": "code",
   "execution_count": 30,
   "id": "db4283e7",
   "metadata": {},
   "outputs": [
    {
     "name": "stdout",
     "output_type": "stream",
     "text": [
      "1\n",
      "2\n",
      "3\n",
      "4\n",
      "[None, None, None, None, None, None, None, None, None, None, None, None, None, None, None, None]\n"
     ]
    }
   ],
   "source": [
    "def digit(n):\n",
    "    if n.isdigit():\n",
    "        print(n)\n",
    "print(list(map(digit,'apssdc1234python')))"
   ]
  },
  {
   "cell_type": "markdown",
   "id": "c7d48299",
   "metadata": {},
   "source": [
    "### Filter:\n",
    "    -Filter takes a function and a sequence and return an iterable.\n",
    "    - Filter the given iterable with the help of function that test each element in the iterable whether it is true or false.\n",
    "    - syntax: filter(function,iterable)\n",
    "    "
   ]
  },
  {
   "cell_type": "code",
   "execution_count": 2,
   "id": "30f22cb9",
   "metadata": {},
   "outputs": [
    {
     "name": "stdout",
     "output_type": "stream",
     "text": [
      "[10, 20, 30, 4, 2]\n"
     ]
    }
   ],
   "source": [
    "def iseven(n):\n",
    "    if(n%2==0):\n",
    "        return True\n",
    "    else:\n",
    "        return False\n",
    "iseven(35)\n",
    "f=list(filter(iseven,[10,20,30,45,67,4,2]))\n",
    "print(f)"
   ]
  },
  {
   "cell_type": "code",
   "execution_count": 4,
   "id": "426eda5f",
   "metadata": {},
   "outputs": [
    {
     "name": "stdout",
     "output_type": "stream",
     "text": [
      "['1', '2', '3', '4']\n"
     ]
    }
   ],
   "source": [
    "def digit(k):\n",
    "    if k.isdigit():\n",
    "        return k\n",
    "k=filter(lambda x: x!=None,map(digit,'asish1234'))\n",
    "print(list(k))"
   ]
  },
  {
   "cell_type": "markdown",
   "id": "5742a6e3",
   "metadata": {},
   "source": [
    "### Reduce:\n",
    "    - Reduce function takes two arguments\n",
    "        reduce(function,seq) is used to apply a particular function passed in its arguments to all of the list elements in the sequence.\n",
    "    - first we need to import functools module."
   ]
  },
  {
   "cell_type": "code",
   "execution_count": 5,
   "id": "138fc0d0",
   "metadata": {},
   "outputs": [],
   "source": [
    "import functools"
   ]
  },
  {
   "cell_type": "code",
   "execution_count": 6,
   "id": "2dfabf4a",
   "metadata": {},
   "outputs": [
    {
     "data": {
      "text/plain": [
       "10"
      ]
     },
     "execution_count": 6,
     "metadata": {},
     "output_type": "execute_result"
    }
   ],
   "source": [
    "# to print the sum of all elements..\n",
    "l1=[1,2,3,4]\n",
    "functools.reduce(lambda a,b:a+b,l1)"
   ]
  },
  {
   "cell_type": "code",
   "execution_count": 8,
   "id": "5155c519",
   "metadata": {},
   "outputs": [
    {
     "data": {
      "text/plain": [
       "3628800"
      ]
     },
     "execution_count": 8,
     "metadata": {},
     "output_type": "execute_result"
    }
   ],
   "source": [
    "functools.reduce(lambda a,b:a*b,range(1,11))"
   ]
  },
  {
   "cell_type": "code",
   "execution_count": null,
   "id": "1007b7bc",
   "metadata": {},
   "outputs": [],
   "source": []
  }
 ],
 "metadata": {
  "kernelspec": {
   "display_name": "Python 3 (ipykernel)",
   "language": "python",
   "name": "python3"
  },
  "language_info": {
   "codemirror_mode": {
    "name": "ipython",
    "version": 3
   },
   "file_extension": ".py",
   "mimetype": "text/x-python",
   "name": "python",
   "nbconvert_exporter": "python",
   "pygments_lexer": "ipython3",
   "version": "3.10.9"
  }
 },
 "nbformat": 4,
 "nbformat_minor": 5
}

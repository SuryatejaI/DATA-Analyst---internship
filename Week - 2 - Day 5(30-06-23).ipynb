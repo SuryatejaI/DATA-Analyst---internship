{
 "cells": [
  {
   "cell_type": "markdown",
   "id": "291e753c",
   "metadata": {},
   "source": [
    "### Comprehension:\n",
    "- By using comprehension in python to create a new sequence such as list, dictionary, set.\n",
    "- we can reduce the lines of code.\n",
    "#### Three types of Comprehension\n",
    "- 1.List comprehension \n",
    "- 2. Dictionary comprehension \n",
    "- 3. set comprehension \n"
   ]
  },
  {
   "cell_type": "markdown",
   "id": "b74fe933",
   "metadata": {},
   "source": [
    "- List comprehension:\n",
    "        - To create the new list from another iterables.\n",
    "    - syntax:\n",
    "    variable_name =    \n",
    "    "
   ]
  },
  {
   "cell_type": "code",
   "execution_count": 6,
   "id": "f1b68d9f",
   "metadata": {},
   "outputs": [
    {
     "name": "stdout",
     "output_type": "stream",
     "text": [
      "[1, 2, 3, 4, 5, 6, 7, 8, 9, 10, 11, 12, 13, 14, 15, 16, 17, 18, 19, 20, 21, 22, 23, 24, 25, 26, 27, 28, 29, 30, 31, 32, 33, 34, 35, 36, 37, 38, 39, 40, 41, 42, 43, 44, 45, 46, 47, 48, 49, 50]\n"
     ]
    }
   ],
   "source": [
    "print([i for i in range(1,51)])"
   ]
  },
  {
   "cell_type": "code",
   "execution_count": 1,
   "id": "a69966a0",
   "metadata": {},
   "outputs": [
    {
     "name": "stdout",
     "output_type": "stream",
     "text": [
      "['Apssdc', 'Python', 'Clanguage', 'Java']\n"
     ]
    }
   ],
   "source": [
    "l1=['apssdc','python','clanguage','java']\n",
    "# output: ['Apssdc','Python','Clanguage','Java]\n",
    "l2=[i[0].upper()+i[1:len(i)] for i in l1]\n",
    "print(l2)"
   ]
  },
  {
   "cell_type": "code",
   "execution_count": 10,
   "id": "bf93316d",
   "metadata": {},
   "outputs": [
    {
     "name": "stdout",
     "output_type": "stream",
     "text": [
      "[30, 10, 40, 20]\n"
     ]
    }
   ],
   "source": [
    "#To print unique elements in alist using LC\n",
    "l1=[10,20,30,10,20,30,10,40,20]\n",
    "l2=[l1.remove(i) for i in l1 if (l1.count(i)>1)]\n",
    "print(l1)"
   ]
  },
  {
   "cell_type": "code",
   "execution_count": 12,
   "id": "9af63683",
   "metadata": {},
   "outputs": [
    {
     "name": "stdout",
     "output_type": "stream",
     "text": [
      "[2, 3, 5, 7, 11, 13, 17, 19, 23, 29, 31, 37, 41, 43, 47, 53, 59, 61, 67, 71, 73, 79, 83, 89, 97]\n"
     ]
    }
   ],
   "source": [
    "#To print prime numbers from 1 to 100 \n",
    "def isprime(n):\n",
    "    count=0\n",
    "    for i in range(1,n+1):\n",
    "        if n%i==0:\n",
    "            count=count+1\n",
    "    if count==2:\n",
    "        return n\n",
    "l1=[i for i in range(1,101) if(isprime(i))]\n",
    "print(l1)"
   ]
  },
  {
   "cell_type": "code",
   "execution_count": 1,
   "id": "1249fe83",
   "metadata": {},
   "outputs": [
    {
     "name": "stdout",
     "output_type": "stream",
     "text": [
      "100\n",
      "[]\n"
     ]
    }
   ],
   "source": [
    "value=int(input())\n",
    "prime=[x for x in range(2,value) if all(x%y!=0 for y in range(2,value))]\n",
    "print(prime)"
   ]
  },
  {
   "cell_type": "markdown",
   "id": "a60419c6",
   "metadata": {},
   "source": [
    "### Dictionary Comprehension:\n",
    "- To create the new dictionary with another iterables.\n",
    "- syntax:\n",
    "variable_name={print(keyname:value) for loop if condition}"
   ]
  },
  {
   "cell_type": "code",
   "execution_count": 3,
   "id": "298b7091",
   "metadata": {},
   "outputs": [
    {
     "name": "stdout",
     "output_type": "stream",
     "text": [
      "{1: 1, 2: 4, 3: 9, 4: 16, 5: 25, 6: 36, 7: 49, 8: 64, 9: 81, 10: 100}\n"
     ]
    }
   ],
   "source": [
    "#TO print the each element square in between 1 to 10\n",
    "# output: \n",
    "\n",
    "d1={}\n",
    "for i in range(1,11):\n",
    "    d1[i]=i*i\n",
    "print(d1)"
   ]
  },
  {
   "cell_type": "code",
   "execution_count": 4,
   "id": "ce066407",
   "metadata": {},
   "outputs": [
    {
     "name": "stdout",
     "output_type": "stream",
     "text": [
      "{1: 1, 2: 4, 3: 9, 4: 16, 5: 25, 6: 36, 7: 49, 8: 64, 9: 81, 10: 100}\n"
     ]
    }
   ],
   "source": [
    "#using dictionary comprehension\n",
    "d2={ i : i*i for i in range(1,11)}\n",
    "print(d2)"
   ]
  },
  {
   "cell_type": "code",
   "execution_count": 6,
   "id": "3470829b",
   "metadata": {},
   "outputs": [
    {
     "name": "stdout",
     "output_type": "stream",
     "text": [
      "{'d': 1, 'a': 5, 't': 2, ' ': 4, 'n': 4, 'l': 1, 'y': 2, 's': 3, 'i': 3, 'u': 1, 'g': 3, 'p': 2, 'h': 1, 'o': 2, 'r': 2, 'm': 2}\n"
     ]
    }
   ],
   "source": [
    "s1='data analysis using python programming'\n",
    "# To print the character frequency with using DC\n",
    "# output;{'d':1,'a':5....}\n",
    "d3={i:s1.count(i) for i in s1}\n",
    "print(d3)"
   ]
  },
  {
   "cell_type": "code",
   "execution_count": 10,
   "id": "bc270149",
   "metadata": {},
   "outputs": [
    {
     "name": "stdout",
     "output_type": "stream",
     "text": [
      "{'d': 1, 'l': 1, 'u': 1, 'h': 1}\n",
      "{'l', 'u', 'd', 'h'}\n"
     ]
    }
   ],
   "source": [
    "#to get the unique characters\n",
    "s1='data analysis using python programming'\n",
    "d4={i:s1.count(i) for i in s1 if(s1.count(i)==1)}\n",
    "print(d4)\n",
    "d5=set(d4)\n",
    "print(d5)"
   ]
  },
  {
   "cell_type": "code",
   "execution_count": 12,
   "id": "df462968",
   "metadata": {},
   "outputs": [
    {
     "name": "stdout",
     "output_type": "stream",
     "text": [
      "{'u', 'i', 'g', 'p', 'd', 'y', 's', 't', 'm', 'l', ' ', 'r', 'n', 'a', 'o', 'h'} "
     ]
    }
   ],
   "source": [
    "#using set comprehension\n",
    "\n",
    "set1={i for i in s1}\n",
    "print(set1,end=\" \")"
   ]
  },
  {
   "cell_type": "code",
   "execution_count": null,
   "id": "9f03fb0b",
   "metadata": {},
   "outputs": [],
   "source": []
  }
 ],
 "metadata": {
  "kernelspec": {
   "display_name": "Python 3 (ipykernel)",
   "language": "python",
   "name": "python3"
  },
  "language_info": {
   "codemirror_mode": {
    "name": "ipython",
    "version": 3
   },
   "file_extension": ".py",
   "mimetype": "text/x-python",
   "name": "python",
   "nbconvert_exporter": "python",
   "pygments_lexer": "ipython3",
   "version": "3.10.9"
  }
 },
 "nbformat": 4,
 "nbformat_minor": 5
}

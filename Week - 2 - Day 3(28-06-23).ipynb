{
 "cells": [
  {
   "cell_type": "code",
   "execution_count": 5,
   "id": "310ec1f8",
   "metadata": {},
   "outputs": [
    {
     "name": "stdout",
     "output_type": "stream",
     "text": [
      "['madhu', 'lalitha', 'nethra']\n",
      "{'name': ['madhu', 'lalitha', 'nethra'], 'rollno': [510, 370, 230], 'branch': ['CSE', 'ECE', 'CSE']}\n",
      "lalitha\n",
      "{'name': ['madhu', 'lalitha', 'nethra'], 'rollno': [440, 370, 230], 'branch': ['CSE', 'ECE', 'CSE']}\n"
     ]
    }
   ],
   "source": [
    "#to store the mutiple student records..\n",
    "\n",
    "student={'name':['madhu','lalitha','nethra'],'rollno':[510,370,230],'branch':['CSE','ECE','CSE']}\n",
    "print(student['name'])\n",
    "print(student)\n",
    "print(student['name'][1])\n",
    "student['rollno'][0]=440\n",
    "print(student)"
   ]
  },
  {
   "cell_type": "markdown",
   "id": "748ddfb4",
   "metadata": {},
   "source": [
    "### Fuctions:\n",
    "    - funtcion is a group of statements.\n",
    "    - It can be perform the specific task.\n",
    "    - \n",
    "    \n",
    "    \n",
    " -*uses:*\n",
    "      - code reusability.\n",
    "      - easy to code debugging.\n",
    " -*syntax: \n",
    "      def function_name(argument_list): # function definiton\n",
    "          statements\n",
    "          return output\n",
    "          \n",
    "- *how to call a function:*\n",
    "        function_name(input_arguments) # function calling\n",
    "        \n",
    "  - function name starts with keyword, inbuilt functions.\n",
    "  - function name should not allow the space in the middle of function.\n",
    " \n",
    " #### Two types of functions:\n",
    "     - 1. pre-defined functions\n",
    "     - 2. user- define sunctions.\n",
    "     - 4.types of user define functions:\n",
    "         - 1. function with arguments and with return values.\n",
    "         - 2. function with arguments and with out return values.\n",
    "         -3. function with out arguments and with return values.\n",
    "         - 4. function with out arguments and without return values.\n",
    "    \n",
    "    \n",
    "    \n",
    "    "
   ]
  },
  {
   "cell_type": "markdown",
   "id": "1ae42242",
   "metadata": {},
   "source": [
    "### 1. with arguments and with return values..\n",
    "\n",
    "     def function_name(argument_lists):\n",
    "         statements\n",
    "         return results\n",
    "         "
   ]
  },
  {
   "cell_type": "code",
   "execution_count": 6,
   "id": "cfd87a8c",
   "metadata": {},
   "outputs": [
    {
     "name": "stdout",
     "output_type": "stream",
     "text": [
      "Enter n value : 2435\n"
     ]
    },
    {
     "data": {
      "text/plain": [
       "2"
      ]
     },
     "execution_count": 6,
     "metadata": {},
     "output_type": "execute_result"
    }
   ],
   "source": [
    "## to print the first digit of a given number?\n",
    "#input: n=4345\n",
    "#output: 4\n",
    "\n",
    "def first_digit(n):\n",
    "    while(n>=10):\n",
    "        n=n//10\n",
    "    return n\n",
    "n1=int(input(\"Enter n value : \"))\n",
    "first_digit(n1)"
   ]
  },
  {
   "cell_type": "markdown",
   "id": "7b93e7b0",
   "metadata": {},
   "source": [
    "#### 2. with arguments and without return values..\n",
    "    def function_name(argument_lists):\n",
    "        statements\n",
    "        print(output)"
   ]
  },
  {
   "cell_type": "code",
   "execution_count": 7,
   "id": "7053b735",
   "metadata": {},
   "outputs": [
    {
     "name": "stdout",
     "output_type": "stream",
     "text": [
      "3\n",
      "2\n",
      "5\n",
      "biggest value is c: 5\n"
     ]
    }
   ],
   "source": [
    "# TO find the biggest of three numbers?\n",
    "def biggest_three(a,b,c):\n",
    "    if (a>b and a>c):\n",
    "        print(\"biggest value is a:\",a)\n",
    "    elif(b>c):\n",
    "        print(\"biggest value is b:\",b)\n",
    "    else:\n",
    "        print(\"biggest value is c:\",c)\n",
    "x=int(input())\n",
    "y=int(input())\n",
    "z=int(input())\n",
    "biggest_three(x,y,z)\n"
   ]
  },
  {
   "cell_type": "markdown",
   "id": "b17c5ed9",
   "metadata": {},
   "source": [
    "### without arguments and with return values..\n",
    "    def function_name():\n",
    "        statements\n",
    "        return(output)"
   ]
  },
  {
   "cell_type": "code",
   "execution_count": 8,
   "id": "66b984ae",
   "metadata": {},
   "outputs": [
    {
     "name": "stdout",
     "output_type": "stream",
     "text": [
      "Enter a value : 4\n",
      "Enter b value : 3\n"
     ]
    },
    {
     "data": {
      "text/plain": [
       "(3, 4)"
      ]
     },
     "execution_count": 8,
     "metadata": {},
     "output_type": "execute_result"
    }
   ],
   "source": [
    "#to swap two numbers:\n",
    "def swap():\n",
    "    a=int(input(\"Enter a value : \"))\n",
    "    b=int(input(\"Enter b value : \"))\n",
    "    a,b=b,a\n",
    "    return a,b\n",
    "swap()"
   ]
  },
  {
   "cell_type": "markdown",
   "id": "ee7b296f",
   "metadata": {},
   "source": [
    "### without arguments and without return values:\n",
    "\n",
    "    def function_name():\n",
    "        statements\n",
    "        print(output)"
   ]
  },
  {
   "cell_type": "code",
   "execution_count": 10,
   "id": "66b5618c",
   "metadata": {},
   "outputs": [
    {
     "name": "stdout",
     "output_type": "stream",
     "text": [
      "Enter n value : 5\n",
      "120\n"
     ]
    }
   ],
   "source": [
    "# To print the factorial of a given number?\n",
    "\n",
    "def factorial():\n",
    "    n=int(input(\"Enter n value : \"))\n",
    "    f1=1\n",
    "    for i in range(1,n+1):\n",
    "        f1=f1*i\n",
    "    print(f1)\n",
    "factorial()"
   ]
  },
  {
   "cell_type": "markdown",
   "id": "b7c81be3",
   "metadata": {},
   "source": [
    "### Arguments:\n",
    "        -Three types of arguments:\n",
    "            -1. Variable length arguments\n",
    "            -2. keyword length arguments\n",
    "            -3. default and non-default arguments\n",
    "- 1. variable length arguments:\n",
    "        - By using '*' symbol we can develop the variable length  arguments.\n",
    "        - It return the data in the format tuple.\n",
    "        "
   ]
  },
  {
   "cell_type": "code",
   "execution_count": 12,
   "id": "004138b0",
   "metadata": {},
   "outputs": [
    {
     "name": "stdout",
     "output_type": "stream",
     "text": [
      "(10, 30, 48, 45, 'apssdc')\n"
     ]
    }
   ],
   "source": [
    "def hello(*a):\n",
    "    print(a)\n",
    "hello(10,30,48,45,'apssdc')"
   ]
  },
  {
   "cell_type": "code",
   "execution_count": 13,
   "id": "9ea3fc45",
   "metadata": {},
   "outputs": [
    {
     "name": "stdout",
     "output_type": "stream",
     "text": [
      "[10, 20]\n"
     ]
    }
   ],
   "source": [
    "list=[10,20]\n",
    "print(list)"
   ]
  },
  {
   "cell_type": "markdown",
   "id": "0cb447af",
   "metadata": {},
   "source": [
    "- keyword length arguments:\n",
    "         - we can use '**' symbol to write the keyword arguments."
   ]
  },
  {
   "cell_type": "code",
   "execution_count": 15,
   "id": "f3d371fd",
   "metadata": {},
   "outputs": [
    {
     "name": "stdout",
     "output_type": "stream",
     "text": [
      "{'name': 'Surya', 'rollno': 370}\n"
     ]
    }
   ],
   "source": [
    "def sample(**k):\n",
    "    print(k)\n",
    "sample(name='Surya',rollno=370)"
   ]
  },
  {
   "cell_type": "markdown",
   "id": "018eeaf5",
   "metadata": {},
   "source": [
    "- default and non default arguments:\n",
    "\n"
   ]
  },
  {
   "cell_type": "code",
   "execution_count": 18,
   "id": "286845bd",
   "metadata": {},
   "outputs": [
    {
     "data": {
      "text/plain": [
       "(10, 33)"
      ]
     },
     "execution_count": 18,
     "metadata": {},
     "output_type": "execute_result"
    }
   ],
   "source": [
    "def example(b,a=10):\n",
    "    return a,b\n",
    "example(33)"
   ]
  },
  {
   "cell_type": "code",
   "execution_count": 24,
   "id": "48a62f9f",
   "metadata": {},
   "outputs": [
    {
     "name": "stdout",
     "output_type": "stream",
     "text": [
      "{'name': 'krish', 'rollno': 370}\n"
     ]
    }
   ],
   "source": [
    "def sample(**k):\n",
    "    print(k)\n",
    "sample(name='krish',rollno=370)\n"
   ]
  },
  {
   "cell_type": "code",
   "execution_count": null,
   "id": "d21b0aaa",
   "metadata": {},
   "outputs": [],
   "source": []
  }
 ],
 "metadata": {
  "kernelspec": {
   "display_name": "Python 3 (ipykernel)",
   "language": "python",
   "name": "python3"
  },
  "language_info": {
   "codemirror_mode": {
    "name": "ipython",
    "version": 3
   },
   "file_extension": ".py",
   "mimetype": "text/x-python",
   "name": "python",
   "nbconvert_exporter": "python",
   "pygments_lexer": "ipython3",
   "version": "3.10.9"
  }
 },
 "nbformat": 4,
 "nbformat_minor": 5
}

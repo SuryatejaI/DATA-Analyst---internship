{
 "cells": [
  {
   "cell_type": "markdown",
   "id": "541e0bf4",
   "metadata": {},
   "source": [
    "### Identity Operator\n",
    "\n"
   ]
  },
  {
   "cell_type": "markdown",
   "id": "8629fc62",
   "metadata": {},
   "source": [
    "### Membership Operator ( in ,not in)\n",
    "\n",
    "* To test whether a value is in the given sequence or not"
   ]
  },
  {
   "cell_type": "code",
   "execution_count": 1,
   "id": "f638f037",
   "metadata": {},
   "outputs": [
    {
     "name": "stdout",
     "output_type": "stream",
     "text": [
      "True\n"
     ]
    }
   ],
   "source": [
    "name=\"ramya\"\n",
    "print('y' in name)"
   ]
  },
  {
   "cell_type": "code",
   "execution_count": 2,
   "id": "7ae551e3",
   "metadata": {},
   "outputs": [
    {
     "name": "stdout",
     "output_type": "stream",
     "text": [
      "False\n"
     ]
    }
   ],
   "source": [
    "print('c' in name)"
   ]
  },
  {
   "cell_type": "code",
   "execution_count": 3,
   "id": "bae33aac",
   "metadata": {},
   "outputs": [
    {
     "name": "stdout",
     "output_type": "stream",
     "text": [
      "True\n"
     ]
    }
   ],
   "source": [
    "print('x' not in name)"
   ]
  },
  {
   "cell_type": "markdown",
   "id": "e1515be4",
   "metadata": {},
   "source": [
    "### Conditonal Statements\n",
    "\n",
    "* Helps to decide what the program should do next based upon the given condition\n",
    "* Flow of Execution\n",
    "* if Statement\n",
    "* if else statement\n",
    "* elif statement\n",
    "* Nested if statement\n"
   ]
  },
  {
   "cell_type": "code",
   "execution_count": 5,
   "id": "2f3817c4",
   "metadata": {},
   "outputs": [
    {
     "name": "stdout",
     "output_type": "stream",
     "text": [
      "Enter a number-12\n",
      "Negative number\n"
     ]
    }
   ],
   "source": [
    "# if condition\n",
    "\n",
    "# write a program to check whether the given number is positive or not?\n",
    "\n",
    "n=int(input(\"Enter a number\"))\n",
    "\n",
    "if n>0:\n",
    "    print(\"Positive number\")\n",
    "else:\n",
    "    print(\"Negative number\")"
   ]
  },
  {
   "cell_type": "code",
   "execution_count": 6,
   "id": "e5a774e1",
   "metadata": {},
   "outputs": [
    {
     "name": "stdout",
     "output_type": "stream",
     "text": [
      "Enter first value : 32\n",
      "Enter second value : 31.9\n",
      "32.0  is the largest among these\n"
     ]
    }
   ],
   "source": [
    "# if-else condition\n",
    "\n",
    "# write a program to print the largest of given 2 numbers\n",
    "\n",
    "x=float(input(\"Enter first value : \"))\n",
    "y=float(input(\"Enter second value : \"))\n",
    "\n",
    "if x>y:\n",
    "    print(x, \" is the largest among these\")\n",
    "else:\n",
    "    print(y,\"is the largest among these\")"
   ]
  },
  {
   "cell_type": "code",
   "execution_count": 7,
   "id": "656c8613",
   "metadata": {},
   "outputs": [
    {
     "name": "stdout",
     "output_type": "stream",
     "text": [
      "Enter a value : -20\n",
      "Enter b value : 30\n",
      "Enter c value : 10\n",
      "30  is biggest\n"
     ]
    }
   ],
   "source": [
    "# elif condition\n",
    "\n",
    "# write a program to check largest number among 3 numbers\n",
    "\n",
    "a=int(input(\"Enter a value : \"))\n",
    "b=int(input(\"Enter b value : \"))\n",
    "c=int(input(\"Enter c value : \"))\n",
    "\n",
    "if a>b and a>c:\n",
    "    print(a,\"is biggest\")\n",
    "elif b>c:\n",
    "    print(b,\" is biggest\")\n",
    "else: \n",
    "    print(c,\" is biggest\")"
   ]
  },
  {
   "cell_type": "code",
   "execution_count": 9,
   "id": "af8bfc8a",
   "metadata": {},
   "outputs": [
    {
     "name": "stdout",
     "output_type": "stream",
     "text": [
      "Enter a value : -5\n",
      "-5  is a negative number\n"
     ]
    }
   ],
   "source": [
    "# nested if condition\n",
    "\n",
    "# write a program to check whether the given number is positive or negative or equals to zero\n",
    "\n",
    "a=int(input(\"Enter a value : \"))\n",
    "\n",
    "if a>=0:\n",
    "    if a==0:\n",
    "        print(a,\" equals to zero\")\n",
    "    else:\n",
    "        print(a,\" is a positive number\")\n",
    "else:\n",
    "    print(a,\" is a negative number\")\n"
   ]
  },
  {
   "cell_type": "markdown",
   "id": "c528862d",
   "metadata": {},
   "source": [
    "### Loops \n",
    "\n",
    "* while loop\n",
    "* while with else\n",
    "* Nested while\n",
    "* fort\n",
    "\n",
    "### Loop control statements \n",
    "* break\n",
    "* continue\n",
    "* pass"
   ]
  },
  {
   "cell_type": "code",
   "execution_count": 14,
   "id": "7350bbfb",
   "metadata": {},
   "outputs": [
    {
     "name": "stdout",
     "output_type": "stream",
     "text": [
      "1 2 3 4 5 6 7 8 9 10 "
     ]
    }
   ],
   "source": [
    "\"\"\" While loop\n",
    "        IT executes block or set of instructions until the condition is false.\n",
    "        We can use this loop when we don't know the number of iterations inadvance.\n",
    "        \n",
    "    While syntax:\n",
    "        * initialization\n",
    "        * While condition:\n",
    "            * statements\n",
    "            * Increment/ decrement\"\"\"\n",
    "\n",
    "# write a program to print 1 to 10 numbers\n",
    "\n",
    "i=1\n",
    "while i<=10:\n",
    "    print(i,end=\" \")\n",
    "    i+=1\n",
    "            \n",
    "        \n",
    "    "
   ]
  },
  {
   "cell_type": "code",
   "execution_count": 15,
   "id": "bf4bd88a",
   "metadata": {},
   "outputs": [
    {
     "name": "stdout",
     "output_type": "stream",
     "text": [
      "10 9 8 7 6 5 4 3 2 1 "
     ]
    }
   ],
   "source": [
    "i=10\n",
    "while i>=1:\n",
    "    print(i,end=\" \")\n",
    "    i-=1"
   ]
  },
  {
   "cell_type": "code",
   "execution_count": 2,
   "id": "9700c0a4",
   "metadata": {},
   "outputs": [
    {
     "name": "stdout",
     "output_type": "stream",
     "text": [
      "Enter the number : 5\n",
      "15\n"
     ]
    }
   ],
   "source": [
    "# write program to find sum of n natural numbers\n",
    "\n",
    "n=int(input(\"Enter the number : \"))\n",
    "sum=0\n",
    "i=1\n",
    "while i<=n:\n",
    "    sum=sum+i\n",
    "    i=i+1\n",
    "print(sum)"
   ]
  },
  {
   "cell_type": "code",
   "execution_count": 2,
   "id": "05ae7910",
   "metadata": {},
   "outputs": [
    {
     "name": "stdout",
     "output_type": "stream",
     "text": [
      "11 21 31 41 51 61 71 81 91 101 "
     ]
    }
   ],
   "source": [
    "# 11 21 31 41 51 61 .... 101\n",
    "\n",
    "i=11\n",
    "while i<=101:\n",
    "    print(i,end=\" \")\n",
    "    i+=10"
   ]
  }
 ],
 "metadata": {
  "kernelspec": {
   "display_name": "Python 3 (ipykernel)",
   "language": "python",
   "name": "python3"
  },
  "language_info": {
   "codemirror_mode": {
    "name": "ipython",
    "version": 3
   },
   "file_extension": ".py",
   "mimetype": "text/x-python",
   "name": "python",
   "nbconvert_exporter": "python",
   "pygments_lexer": "ipython3",
   "version": "3.10.9"
  }
 },
 "nbformat": 4,
 "nbformat_minor": 5
}

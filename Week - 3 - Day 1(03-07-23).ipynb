{
 "cells": [
  {
   "cell_type": "code",
   "execution_count": 2,
   "id": "79227a4e",
   "metadata": {},
   "outputs": [
    {
     "name": "stdout",
     "output_type": "stream",
     "text": [
      "3 4\n"
     ]
    }
   ],
   "source": [
    "def display():\n",
    "    a=3\n",
    "    b=4\n",
    "    return a,b\n",
    "A,B=display()\n",
    "print(A,B)"
   ]
  },
  {
   "cell_type": "markdown",
   "id": "6f3e5bef",
   "metadata": {},
   "source": [
    "### Files:\n",
    "    -By using files we can store the data in permently.\n",
    "    -How to create the text file.\n",
    "        -1. By using the open() function we can create the text file.\n",
    "        -2.Here open function takes two arguments:\n",
    "        -synatx: file-variablename = open('file_name',modes)\n",
    "        -3. In files, we have three basic modes:\n",
    "            -1. read mode: ->'r' -> read or view the data in file.\n",
    "            -2. write mode: ->'w' -> we can edit,remove ,store the data into a text file. \n",
    "            -3. append mode; ->'a' -> we can add the data into a file.\n",
    "            \n",
    "        -4. By using close() function we can close the file.\n",
    "        -syntax: file_variablename.close()\n"
   ]
  },
  {
   "cell_type": "code",
   "execution_count": 3,
   "id": "f7ad3e2d",
   "metadata": {},
   "outputs": [
    {
     "name": "stdout",
     "output_type": "stream",
     "text": [
      "file created successfully\n"
     ]
    }
   ],
   "source": [
    "# to create the empty textfile?\n",
    "# we can use only write and append mode..\n",
    "f1=open('data.txt','w')\n",
    "print('file created successfully')\n",
    "f1.close()"
   ]
  },
  {
   "cell_type": "markdown",
   "id": "697c8945",
   "metadata": {},
   "source": [
    "#### file methods:\n",
    "    -1. read()\n",
    "    -2. write()\n",
    "    -3. readline()\n",
    "    -4. readlines()\n",
    "    -5. tell()\n",
    "    -6. seek()\n",
    "    -7. split()"
   ]
  },
  {
   "cell_type": "code",
   "execution_count": 4,
   "id": "e319d2df",
   "metadata": {},
   "outputs": [
    {
     "name": "stdout",
     "output_type": "stream",
     "text": [
      "Success!...\n"
     ]
    }
   ],
   "source": [
    "# to store the data into a file\n",
    "f1=open('data.txt','w')\n",
    "f1.write(\"Hello welcome to Data Analyst Internship Program...\")\n",
    "f1.close()\n",
    "print('Success!...')"
   ]
  },
  {
   "cell_type": "code",
   "execution_count": 22,
   "id": "9baa73d5",
   "metadata": {},
   "outputs": [
    {
     "name": "stdout",
     "output_type": "stream",
     "text": [
      "sucess\n"
     ]
    }
   ],
   "source": [
    "# to store the number of lines of data..\n",
    "f1=open('data.txt','w')\n",
    "f1.write('name: Surya' +'\\n' + 'Rollno : 370' + '\\n')\n",
    "f1.close()\n",
    "print('sucess')"
   ]
  },
  {
   "cell_type": "code",
   "execution_count": 23,
   "id": "4b58ff13",
   "metadata": {},
   "outputs": [
    {
     "name": "stdout",
     "output_type": "stream",
     "text": [
      "success\n"
     ]
    }
   ],
   "source": [
    "#using append mode we can store the data...\n",
    "f2=open('data.txt','a')\n",
    "f2.write('Branch : CSE')\n",
    "f2.close()\n",
    "print('success')"
   ]
  },
  {
   "cell_type": "code",
   "execution_count": 24,
   "id": "1c2a28fa",
   "metadata": {},
   "outputs": [
    {
     "name": "stdout",
     "output_type": "stream",
     "text": [
      "name: Surya\n",
      "Rollno : 370\n",
      "Branch : CSE\n"
     ]
    }
   ],
   "source": [
    "# to read from a file\n",
    "f1=open('data.txt','r')\n",
    "data=f1.read()\n",
    "print(data)"
   ]
  },
  {
   "cell_type": "code",
   "execution_count": 25,
   "id": "244cae7b",
   "metadata": {},
   "outputs": [
    {
     "name": "stdout",
     "output_type": "stream",
     "text": [
      "name: Surya\n",
      "\n",
      "Rollno : 370\n"
     ]
    }
   ],
   "source": [
    "# to read the n number of characters..\n",
    "f1=open('data.txt','r')\n",
    "print(f1.read(11))\n",
    "print(f1.read(13))\n",
    "f1.close()"
   ]
  },
  {
   "cell_type": "code",
   "execution_count": 26,
   "id": "eaecac56",
   "metadata": {},
   "outputs": [
    {
     "name": "stdout",
     "output_type": "stream",
     "text": [
      "name: Surya\n",
      "Rollno : 370\n",
      "Branch : CSE\n"
     ]
    }
   ],
   "source": [
    "#using with keyword we can work with  files...\n",
    "with open('data.txt','r') as f1:\n",
    "    print(f1.read())"
   ]
  },
  {
   "cell_type": "code",
   "execution_count": 27,
   "id": "d468941a",
   "metadata": {},
   "outputs": [
    {
     "name": "stdout",
     "output_type": "stream",
     "text": [
      "name: Surya\n",
      "\n",
      "Rollno : 370\n",
      "\n"
     ]
    }
   ],
   "source": [
    "# readline():\n",
    "with open('data.txt','r') as f1:\n",
    "    print(f1.readline())\n",
    "    print(f1.readline())"
   ]
  },
  {
   "cell_type": "code",
   "execution_count": 28,
   "id": "83309d11",
   "metadata": {},
   "outputs": [
    {
     "name": "stdout",
     "output_type": "stream",
     "text": [
      "['name: Surya\\n', 'Rollno : 370\\n', 'Branch : CSE']\n"
     ]
    }
   ],
   "source": [
    "#readlines()\n",
    "with open('data.txt','r') as f1:\n",
    "    print(f1.readlines())"
   ]
  },
  {
   "cell_type": "code",
   "execution_count": 31,
   "id": "63b280ad",
   "metadata": {},
   "outputs": [
    {
     "name": "stdout",
     "output_type": "stream",
     "text": [
      "<class 'str'>\n",
      "37\n"
     ]
    }
   ],
   "source": [
    "# to find the number of characters from a file..\n",
    "with open('data.txt','r') as f2:\n",
    "    d1=f2.read()\n",
    "    print(type(d1))\n",
    "    print(len(d1))"
   ]
  },
  {
   "cell_type": "code",
   "execution_count": 40,
   "id": "f079aeb0",
   "metadata": {},
   "outputs": [
    {
     "name": "stdout",
     "output_type": "stream",
     "text": [
      "number of spaces:  8\n"
     ]
    }
   ],
   "source": [
    "# to find the number of spaces..\n",
    "with open('data.txt','r') as f4:\n",
    "    sp=1\n",
    "    for i in f4.read():\n",
    "        if i.isspace():\n",
    "            sp=sp+1\n",
    "        \n",
    "print('number of spaces: ',sp)"
   ]
  },
  {
   "cell_type": "code",
   "execution_count": 45,
   "id": "b6c52aba",
   "metadata": {},
   "outputs": [
    {
     "name": "stdout",
     "output_type": "stream",
     "text": [
      "6\n",
      "Surya\n",
      "Rollno : 370\n",
      "Branch : CSE\n",
      "39\n"
     ]
    }
   ],
   "source": [
    "# seek() and tell()\n",
    "with open('data.txt','r') as f4:\n",
    "    print(f4.seek(6))\n",
    "    print(f4.read())\n",
    "    print(f4.tell())"
   ]
  },
  {
   "cell_type": "code",
   "execution_count": 46,
   "id": "8fc091dc",
   "metadata": {},
   "outputs": [
    {
     "name": "stdout",
     "output_type": "stream",
     "text": [
      "['name:', 'Surya', 'Rollno', ':', '370', 'Branch', ':', 'CSE']\n"
     ]
    }
   ],
   "source": [
    "# split():\n",
    "with open('data.txt','r') as f5:\n",
    "    print(f5.read().split())"
   ]
  },
  {
   "cell_type": "code",
   "execution_count": 47,
   "id": "f42bf10a",
   "metadata": {},
   "outputs": [
    {
     "name": "stdout",
     "output_type": "stream",
     "text": [
      "8\n"
     ]
    }
   ],
   "source": [
    "# to count the number of words from a file.\n",
    "with open('data.txt','r') as f5:\n",
    "    print(len(f5.read().split()))"
   ]
  },
  {
   "cell_type": "code",
   "execution_count": 48,
   "id": "d1d3ead7",
   "metadata": {},
   "outputs": [
    {
     "name": "stdout",
     "output_type": "stream",
     "text": [
      "success..\n"
     ]
    }
   ],
   "source": [
    "## to copy the data from one file to another?\n",
    "with open('data.txt','r') as f1, open('copy.txt','w') as f2:\n",
    "    for i in f1.read():\n",
    "        f2.write(i)\n",
    "    print(\"success..\")"
   ]
  },
  {
   "cell_type": "code",
   "execution_count": 49,
   "id": "98052db2",
   "metadata": {},
   "outputs": [
    {
     "name": "stdout",
     "output_type": "stream",
     "text": [
      "Success\n"
     ]
    }
   ],
   "source": [
    "#another method:\n",
    "import shutil\n",
    "shutil.copy('data.txt','sample.txt')\n",
    "print('Success')"
   ]
  },
  {
   "cell_type": "code",
   "execution_count": 51,
   "id": "552401d0",
   "metadata": {},
   "outputs": [
    {
     "name": "stdout",
     "output_type": "stream",
     "text": [
      "Enter name: yaswanth\n",
      "Enter rollnumber : 243\n",
      "Enter mobile number : 1234567890\n",
      "Enter Email idfhuiuwhfuihi@gmail.com\n",
      "Enter name: naveen \n",
      "Enter rollnumber : 123\n",
      "Enter mobile number : 0987654321\n",
      "Enter Email iddffohfvkdbui@gmail.com\n",
      "Enter name: jaya\n",
      "Enter rollnumber : 375\n",
      "Enter mobile number : 9875973922\n",
      "Enter Email idjayasree@gmail.com\n"
     ]
    }
   ],
   "source": [
    "#to store the n number of student records into a textfile\n",
    "#1.name\n",
    "#2. rollnumber\n",
    "#3. mobile number\n",
    "#4. email id\n",
    "\n",
    "with open('student.txt','a') as f1:\n",
    "    for i in range(1,4):\n",
    "        name=input(\"Enter name : \")\n",
    "        rn=input(\"Enter rollnumber : \")\n",
    "        mb=input('Enter mobile number : ')\n",
    "        eid=input('Enter Email id : ')\n",
    "        f1.write(name+'\\n'+rn+'\\n'+mb+'\\n'+eid)\n",
    "            \n"
   ]
  },
  {
   "cell_type": "code",
   "execution_count": 54,
   "id": "58acbdb9",
   "metadata": {},
   "outputs": [
    {
     "name": "stdout",
     "output_type": "stream",
     "text": [
      "False\n"
     ]
    }
   ],
   "source": [
    "#to check the file is exit or not?\n",
    "import os\n",
    "print(os.path.exists('marks.txt'))"
   ]
  },
  {
   "cell_type": "code",
   "execution_count": 55,
   "id": "ef88c22a",
   "metadata": {},
   "outputs": [
    {
     "name": "stdout",
     "output_type": "stream",
     "text": [
      "Enter filename: student.txt\n",
      "It is already exists\n"
     ]
    }
   ],
   "source": [
    "fname=input(\"Enter filename: \")\n",
    "if os.path.exists(fname):\n",
    "    print(\"It is already exists\")\n",
    "else:\n",
    "    print(\"File does not exist\")\n",
    "    "
   ]
  },
  {
   "cell_type": "code",
   "execution_count": 57,
   "id": "023169b5",
   "metadata": {},
   "outputs": [
    {
     "name": "stdout",
     "output_type": "stream",
     "text": [
      "Enter filename : copy.txt\n",
      "$filename is not exists\n"
     ]
    }
   ],
   "source": [
    "# to remove the file..\n",
    "filename=input(\"Enter filename : \")\n",
    "if os.path.exists(filename):\n",
    "    print(\"yes\")\n",
    "    os.remove(filename)\n",
    "    print(\"File deleted succefully..\")\n",
    "else:\n",
    "    print('$filename is not exists')"
   ]
  },
  {
   "cell_type": "code",
   "execution_count": 59,
   "id": "364cb3fc",
   "metadata": {},
   "outputs": [
    {
     "name": "stdout",
     "output_type": "stream",
     "text": [
      "[2, 4, 6, 8, 10, 12, 14]\n"
     ]
    }
   ],
   "source": [
    "aList=[1,2,3,4,5,6,7]\n",
    "pow2=[2*x for x in aList]\n",
    "print(pow2)"
   ]
  },
  {
   "cell_type": "code",
   "execution_count": null,
   "id": "7ffe64e0",
   "metadata": {},
   "outputs": [],
   "source": []
  }
 ],
 "metadata": {
  "kernelspec": {
   "display_name": "Python 3 (ipykernel)",
   "language": "python",
   "name": "python3"
  },
  "language_info": {
   "codemirror_mode": {
    "name": "ipython",
    "version": 3
   },
   "file_extension": ".py",
   "mimetype": "text/x-python",
   "name": "python",
   "nbconvert_exporter": "python",
   "pygments_lexer": "ipython3",
   "version": "3.10.9"
  }
 },
 "nbformat": 4,
 "nbformat_minor": 5
}
